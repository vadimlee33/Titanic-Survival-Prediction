{
 "cells": [
  {
   "cell_type": "code",
   "execution_count": 78,
   "id": "9ecdc2bf",
   "metadata": {},
   "outputs": [],
   "source": [
    "# libraries for load\n",
    "import pandas as pd\n",
    "import numpy as np\n",
    "\n",
    "# data visualization\n",
    "import matplotlib.pyplot as plt\n",
    "import seaborn as sns\n",
    "\n",
    "# missing data imputation\n",
    "from feature_engine.imputation  import MeanMedianImputer, ArbitraryNumberImputer, CategoricalImputer\n",
    "from sklearn.impute import SimpleImputer\n",
    "\n",
    "# data prepocessing\n",
    "from sklearn.compose import ColumnTransformer\n",
    "from sklearn.pipeline import Pipeline\n",
    "from sklearn.model_selection import train_test_split, GridSearchCV\n",
    "\n",
    "# feature scaling\n",
    "from sklearn.preprocessing import (\n",
    "    StandardScaler,\n",
    "    MinMaxScaler,\n",
    "    RobustScaler,\n",
    "    FunctionTransformer\n",
    ")\n",
    "\n",
    "# encoding\n",
    "from feature_engine.encoding import RareLabelEncoder, OrdinalEncoder\n",
    "\n",
    "# ML models\n",
    "from sklearn.linear_model import LogisticRegression\n",
    "from sklearn.neighbors import KNeighborsClassifier\n",
    "from sklearn.ensemble import GradientBoostingClassifier, RandomForestClassifier\n",
    "from sklearn.svm import SVC\n",
    "\n",
    "# metrics\n",
    "from sklearn.metrics import (\n",
    "    accuracy_score,\n",
    "    confusion_matrix,\n",
    "    recall_score, \n",
    "    f1_score,\n",
    "    precision_score,\n",
    "    recall_score\n",
    ")\n",
    "\n",
    "# suppress warning messages\n",
    "import warnings\n",
    "warnings.filterwarnings('ignore')"
   ]
  },
  {
   "cell_type": "code",
   "execution_count": 34,
   "id": "adaf85ca",
   "metadata": {
    "scrolled": false
   },
   "outputs": [
    {
     "data": {
      "text/html": [
       "<div>\n",
       "<style scoped>\n",
       "    .dataframe tbody tr th:only-of-type {\n",
       "        vertical-align: middle;\n",
       "    }\n",
       "\n",
       "    .dataframe tbody tr th {\n",
       "        vertical-align: top;\n",
       "    }\n",
       "\n",
       "    .dataframe thead th {\n",
       "        text-align: right;\n",
       "    }\n",
       "</style>\n",
       "<table border=\"1\" class=\"dataframe\">\n",
       "  <thead>\n",
       "    <tr style=\"text-align: right;\">\n",
       "      <th></th>\n",
       "      <th>pclass</th>\n",
       "      <th>survived</th>\n",
       "      <th>name</th>\n",
       "      <th>sex</th>\n",
       "      <th>age</th>\n",
       "      <th>sibsp</th>\n",
       "      <th>parch</th>\n",
       "      <th>ticket</th>\n",
       "      <th>fare</th>\n",
       "      <th>cabin</th>\n",
       "      <th>embarked</th>\n",
       "      <th>boat</th>\n",
       "      <th>body</th>\n",
       "      <th>home.dest</th>\n",
       "    </tr>\n",
       "  </thead>\n",
       "  <tbody>\n",
       "    <tr>\n",
       "      <th>0</th>\n",
       "      <td>1</td>\n",
       "      <td>1</td>\n",
       "      <td>Allen, Miss. Elisabeth Walton</td>\n",
       "      <td>female</td>\n",
       "      <td>29.0000</td>\n",
       "      <td>0</td>\n",
       "      <td>0</td>\n",
       "      <td>24160</td>\n",
       "      <td>211.3375</td>\n",
       "      <td>B5</td>\n",
       "      <td>S</td>\n",
       "      <td>2</td>\n",
       "      <td>NaN</td>\n",
       "      <td>St Louis, MO</td>\n",
       "    </tr>\n",
       "    <tr>\n",
       "      <th>1</th>\n",
       "      <td>1</td>\n",
       "      <td>1</td>\n",
       "      <td>Allison, Master. Hudson Trevor</td>\n",
       "      <td>male</td>\n",
       "      <td>0.9167</td>\n",
       "      <td>1</td>\n",
       "      <td>2</td>\n",
       "      <td>113781</td>\n",
       "      <td>151.5500</td>\n",
       "      <td>C22</td>\n",
       "      <td>S</td>\n",
       "      <td>11</td>\n",
       "      <td>NaN</td>\n",
       "      <td>Montreal, PQ / Chesterville, ON</td>\n",
       "    </tr>\n",
       "    <tr>\n",
       "      <th>2</th>\n",
       "      <td>1</td>\n",
       "      <td>0</td>\n",
       "      <td>Allison, Miss. Helen Loraine</td>\n",
       "      <td>female</td>\n",
       "      <td>2.0000</td>\n",
       "      <td>1</td>\n",
       "      <td>2</td>\n",
       "      <td>113781</td>\n",
       "      <td>151.5500</td>\n",
       "      <td>C22</td>\n",
       "      <td>S</td>\n",
       "      <td>NaN</td>\n",
       "      <td>NaN</td>\n",
       "      <td>Montreal, PQ / Chesterville, ON</td>\n",
       "    </tr>\n",
       "    <tr>\n",
       "      <th>3</th>\n",
       "      <td>1</td>\n",
       "      <td>0</td>\n",
       "      <td>Allison, Mr. Hudson Joshua Creighton</td>\n",
       "      <td>male</td>\n",
       "      <td>30.0000</td>\n",
       "      <td>1</td>\n",
       "      <td>2</td>\n",
       "      <td>113781</td>\n",
       "      <td>151.5500</td>\n",
       "      <td>C22</td>\n",
       "      <td>S</td>\n",
       "      <td>NaN</td>\n",
       "      <td>135.0</td>\n",
       "      <td>Montreal, PQ / Chesterville, ON</td>\n",
       "    </tr>\n",
       "    <tr>\n",
       "      <th>4</th>\n",
       "      <td>1</td>\n",
       "      <td>0</td>\n",
       "      <td>Allison, Mrs. Hudson J C (Bessie Waldo Daniels)</td>\n",
       "      <td>female</td>\n",
       "      <td>25.0000</td>\n",
       "      <td>1</td>\n",
       "      <td>2</td>\n",
       "      <td>113781</td>\n",
       "      <td>151.5500</td>\n",
       "      <td>C22</td>\n",
       "      <td>S</td>\n",
       "      <td>NaN</td>\n",
       "      <td>NaN</td>\n",
       "      <td>Montreal, PQ / Chesterville, ON</td>\n",
       "    </tr>\n",
       "  </tbody>\n",
       "</table>\n",
       "</div>"
      ],
      "text/plain": [
       "   pclass  survived                                             name     sex  \\\n",
       "0       1         1                    Allen, Miss. Elisabeth Walton  female   \n",
       "1       1         1                   Allison, Master. Hudson Trevor    male   \n",
       "2       1         0                     Allison, Miss. Helen Loraine  female   \n",
       "3       1         0             Allison, Mr. Hudson Joshua Creighton    male   \n",
       "4       1         0  Allison, Mrs. Hudson J C (Bessie Waldo Daniels)  female   \n",
       "\n",
       "       age  sibsp  parch  ticket      fare cabin embarked boat   body  \\\n",
       "0  29.0000      0      0   24160  211.3375    B5        S    2    NaN   \n",
       "1   0.9167      1      2  113781  151.5500   C22        S   11    NaN   \n",
       "2   2.0000      1      2  113781  151.5500   C22        S  NaN    NaN   \n",
       "3  30.0000      1      2  113781  151.5500   C22        S  NaN  135.0   \n",
       "4  25.0000      1      2  113781  151.5500   C22        S  NaN    NaN   \n",
       "\n",
       "                         home.dest  \n",
       "0                     St Louis, MO  \n",
       "1  Montreal, PQ / Chesterville, ON  \n",
       "2  Montreal, PQ / Chesterville, ON  \n",
       "3  Montreal, PQ / Chesterville, ON  \n",
       "4  Montreal, PQ / Chesterville, ON  "
      ]
     },
     "execution_count": 34,
     "metadata": {},
     "output_type": "execute_result"
    }
   ],
   "source": [
    "# Load dataset from local file using pandas\n",
    "data = pd.read_csv('data/titanic.csv')\n",
    "data.head()"
   ]
  },
  {
   "cell_type": "markdown",
   "id": "600cd10f",
   "metadata": {},
   "source": [
    "## Data Exploration"
   ]
  },
  {
   "cell_type": "markdown",
   "id": "04f984e5",
   "metadata": {},
   "source": [
    "### Dataset Info"
   ]
  },
  {
   "cell_type": "code",
   "execution_count": 35,
   "id": "4bedc0d5",
   "metadata": {},
   "outputs": [
    {
     "name": "stdout",
     "output_type": "stream",
     "text": [
      "<class 'pandas.core.frame.DataFrame'>\n",
      "RangeIndex: 1309 entries, 0 to 1308\n",
      "Data columns (total 14 columns):\n",
      " #   Column     Non-Null Count  Dtype  \n",
      "---  ------     --------------  -----  \n",
      " 0   pclass     1309 non-null   int64  \n",
      " 1   survived   1309 non-null   int64  \n",
      " 2   name       1309 non-null   object \n",
      " 3   sex        1309 non-null   object \n",
      " 4   age        1046 non-null   float64\n",
      " 5   sibsp      1309 non-null   int64  \n",
      " 6   parch      1309 non-null   int64  \n",
      " 7   ticket     1309 non-null   object \n",
      " 8   fare       1308 non-null   float64\n",
      " 9   cabin      295 non-null    object \n",
      " 10  embarked   1307 non-null   object \n",
      " 11  boat       486 non-null    object \n",
      " 12  body       121 non-null    float64\n",
      " 13  home.dest  745 non-null    object \n",
      "dtypes: float64(3), int64(4), object(7)\n",
      "memory usage: 143.3+ KB\n"
     ]
    }
   ],
   "source": [
    "data.info()"
   ]
  },
  {
   "cell_type": "markdown",
   "id": "a46ef7df",
   "metadata": {},
   "source": [
    "As you can see we have 14 variables and each feature has 1309 records.\n",
    "\n",
    "### The types of variables:\n",
    "\n",
    "#### Numerical:\n",
    " - __Discrete:__\n",
    "  1. sibsp\n",
    "  2. parch\n",
    "  \n",
    " - __Continuous:__\n",
    "  1. age\n",
    "  2. fare\n",
    "  3. body\n",
    "  \n",
    "#### Categorical:\n",
    " - __Nominal:__\n",
    "  1. sex\n",
    "  2. embarked\n",
    "  3. survived (Target Variable)\n",
    "  4. home.dest\n",
    "  5. name\n",
    " - __Ordinal:__\n",
    "  1. pclass\n",
    "  2. boat\n",
    "  \n",
    "#### Other:\n",
    " - __Mixed variables:__\n",
    "  1. cabin\n",
    "  2. ticket"
   ]
  },
  {
   "cell_type": "code",
   "execution_count": 162,
   "id": "57136639",
   "metadata": {
    "scrolled": true
   },
   "outputs": [
    {
     "data": {
      "image/png": "[encoded data removed]",
      "text/plain": [
       "<Figure size 864x648 with 2 Axes>"
      ]
     },
     "metadata": {
      "needs_background": "light"
     },
     "output_type": "display_data"
    }
   ],
   "source": [
    "#correlation matrix\n",
    "corrmat = data.corr()\n",
    "f, ax = plt.subplots(figsize=(12, 9))\n",
    "sns.heatmap(corrmat, vmax=.8, square=True);\n",
    "plt.savefig(\"corrmat.png\")"
   ]
  },
  {
   "cell_type": "markdown",
   "id": "7959e093",
   "metadata": {},
   "source": [
    "### Features Distribution"
   ]
  },
  {
   "cell_type": "code",
   "execution_count": 37,
   "id": "1ae407d0",
   "metadata": {
    "scrolled": false
   },
   "outputs": [
    {
     "data": {
      "image/png": "[encoded data removed]",
      "text/plain": [
       "<Figure size 1152x1152 with 6 Axes>"
      ]
     },
     "metadata": {
      "needs_background": "light"
     },
     "output_type": "display_data"
    }
   ],
   "source": [
    "# numerical features distribution\n",
    "fig_ = data.drop(['survived'], axis = 1).hist(figsize=(16, 16), bins=60, color=\"cyan\",\n",
    "                         edgecolor=\"gray\", xlabelsize=10, ylabelsize=10)"
   ]
  },
  {
   "cell_type": "markdown",
   "id": "00f2efaa",
   "metadata": {},
   "source": [
    "Looking at these plots, only 'age' variable has almost normal distribution.\n",
    "Lets draw plots again and show skewness."
   ]
  },
  {
   "cell_type": "code",
   "execution_count": 38,
   "id": "01fa441c",
   "metadata": {},
   "outputs": [
    {
     "data": {
      "text/plain": [
       "Text(0.5, 1.0, 'Passenger Age Distribution')"
      ]
     },
     "execution_count": 38,
     "metadata": {},
     "output_type": "execute_result"
    },
    {
     "data": {
      "image/png": "[encoded data removed]",
      "text/plain": [
       "<Figure size 432x288 with 1 Axes>"
      ]
     },
     "metadata": {
      "needs_background": "light"
     },
     "output_type": "display_data"
    }
   ],
   "source": [
    "# check distribution of age variable\n",
    "\n",
    "sns.distplot(data['age'], label = 'Skewness: %.2f'%(data['age'].skew()))\n",
    "plt.legend(loc = 'best')\n",
    "plt.title('Passenger Age Distribution')\n",
    "\n",
    "# As you can see 'age' variable has almost normal distribution."
   ]
  },
  {
   "cell_type": "code",
   "execution_count": 39,
   "id": "fad68e26",
   "metadata": {
    "scrolled": true
   },
   "outputs": [
    {
     "data": {
      "text/plain": [
       "Text(0.5, 1.0, 'Passenger Fare Distribution')"
      ]
     },
     "execution_count": 39,
     "metadata": {},
     "output_type": "execute_result"
    },
    {
     "data": {
      "image/png": "[encoded data removed]",
      "text/plain": [
       "<Figure size 432x288 with 1 Axes>"
      ]
     },
     "metadata": {
      "needs_background": "light"
     },
     "output_type": "display_data"
    }
   ],
   "source": [
    "# check distribution of fare variable\n",
    "\n",
    "sns.distplot(data['fare'], label = 'Skewness: %.2f'%(data['fare'].skew()))\n",
    "plt.legend(loc = 'best')\n",
    "plt.title('Passenger Fare Distribution')\n",
    "\n",
    "# As you can see 'fare' variable has highly skewed distribution."
   ]
  },
  {
   "cell_type": "code",
   "execution_count": 40,
   "id": "89ecab9c",
   "metadata": {},
   "outputs": [],
   "source": [
    "def categorical_dist_plots(data, var):\n",
    "    fig, ax = plt.subplots(1, 2, figsize=(12, 4))\n",
    "\n",
    "    data[var].value_counts().plot(\n",
    "        kind = \"pie\",\n",
    "        explode = [0.05 for x in data[var].dropna().unique()],\n",
    "        autopct = '%1.1f%%',\n",
    "        ax = ax[0],\n",
    "        shadow = True)\n",
    "    ax[0].set_title(f\"{var} Pie Chart\")\n",
    "    ax[0].set_ylabel('')\n",
    "\n",
    "    count = sns.countplot(x = var, data = data, ax = ax[1])\n",
    "    for bar in count.patches:\n",
    "        count.annotate(format(bar.get_height()),\n",
    "            (bar.get_x() + bar.get_width() / 2,\n",
    "            bar.get_height()), ha = 'center', va = 'center',\n",
    "            size = 11, xytext = (0, 8),\n",
    "            textcoords = 'offset points')\n",
    "    ax[1].set_title(f\"{var} Bar Chart\")\n",
    "    plt.show()"
   ]
  },
  {
   "cell_type": "code",
   "execution_count": 41,
   "id": "1f8620f4",
   "metadata": {},
   "outputs": [
    {
     "data": {
      "image/png": "[encoded data removed]",
      "text/plain": [
       "<Figure size 864x288 with 2 Axes>"
      ]
     },
     "metadata": {
      "needs_background": "light"
     },
     "output_type": "display_data"
    }
   ],
   "source": [
    "# Check our target distribution\n",
    "categorical_dist_plots(data, 'survived')"
   ]
  },
  {
   "cell_type": "markdown",
   "id": "b9b38466",
   "metadata": {},
   "source": [
    "Looking at this plot, we can conclude that the dataset is quite balanced."
   ]
  },
  {
   "cell_type": "markdown",
   "id": "11a2fcc5",
   "metadata": {},
   "source": [
    "## Feature Engineering"
   ]
  },
  {
   "cell_type": "code",
   "execution_count": 42,
   "id": "600300c6",
   "metadata": {
    "scrolled": true
   },
   "outputs": [
    {
     "data": {
      "text/html": [
       "<div>\n",
       "<style scoped>\n",
       "    .dataframe tbody tr th:only-of-type {\n",
       "        vertical-align: middle;\n",
       "    }\n",
       "\n",
       "    .dataframe tbody tr th {\n",
       "        vertical-align: top;\n",
       "    }\n",
       "\n",
       "    .dataframe thead th {\n",
       "        text-align: right;\n",
       "    }\n",
       "</style>\n",
       "<table border=\"1\" class=\"dataframe\">\n",
       "  <thead>\n",
       "    <tr style=\"text-align: right;\">\n",
       "      <th></th>\n",
       "      <th>pclass</th>\n",
       "      <th>survived</th>\n",
       "      <th>sex</th>\n",
       "      <th>age</th>\n",
       "      <th>sibsp</th>\n",
       "      <th>parch</th>\n",
       "      <th>ticket</th>\n",
       "      <th>fare</th>\n",
       "      <th>cabin</th>\n",
       "      <th>embarked</th>\n",
       "    </tr>\n",
       "  </thead>\n",
       "  <tbody>\n",
       "    <tr>\n",
       "      <th>0</th>\n",
       "      <td>1</td>\n",
       "      <td>1</td>\n",
       "      <td>female</td>\n",
       "      <td>29.0000</td>\n",
       "      <td>0</td>\n",
       "      <td>0</td>\n",
       "      <td>24160</td>\n",
       "      <td>211.3375</td>\n",
       "      <td>B5</td>\n",
       "      <td>S</td>\n",
       "    </tr>\n",
       "    <tr>\n",
       "      <th>1</th>\n",
       "      <td>1</td>\n",
       "      <td>1</td>\n",
       "      <td>male</td>\n",
       "      <td>0.9167</td>\n",
       "      <td>1</td>\n",
       "      <td>2</td>\n",
       "      <td>113781</td>\n",
       "      <td>151.5500</td>\n",
       "      <td>C22</td>\n",
       "      <td>S</td>\n",
       "    </tr>\n",
       "    <tr>\n",
       "      <th>2</th>\n",
       "      <td>1</td>\n",
       "      <td>0</td>\n",
       "      <td>female</td>\n",
       "      <td>2.0000</td>\n",
       "      <td>1</td>\n",
       "      <td>2</td>\n",
       "      <td>113781</td>\n",
       "      <td>151.5500</td>\n",
       "      <td>C22</td>\n",
       "      <td>S</td>\n",
       "    </tr>\n",
       "    <tr>\n",
       "      <th>3</th>\n",
       "      <td>1</td>\n",
       "      <td>0</td>\n",
       "      <td>male</td>\n",
       "      <td>30.0000</td>\n",
       "      <td>1</td>\n",
       "      <td>2</td>\n",
       "      <td>113781</td>\n",
       "      <td>151.5500</td>\n",
       "      <td>C22</td>\n",
       "      <td>S</td>\n",
       "    </tr>\n",
       "    <tr>\n",
       "      <th>4</th>\n",
       "      <td>1</td>\n",
       "      <td>0</td>\n",
       "      <td>female</td>\n",
       "      <td>25.0000</td>\n",
       "      <td>1</td>\n",
       "      <td>2</td>\n",
       "      <td>113781</td>\n",
       "      <td>151.5500</td>\n",
       "      <td>C22</td>\n",
       "      <td>S</td>\n",
       "    </tr>\n",
       "  </tbody>\n",
       "</table>\n",
       "</div>"
      ],
      "text/plain": [
       "   pclass  survived     sex      age  sibsp  parch  ticket      fare cabin  \\\n",
       "0       1         1  female  29.0000      0      0   24160  211.3375    B5   \n",
       "1       1         1    male   0.9167      1      2  113781  151.5500   C22   \n",
       "2       1         0  female   2.0000      1      2  113781  151.5500   C22   \n",
       "3       1         0    male  30.0000      1      2  113781  151.5500   C22   \n",
       "4       1         0  female  25.0000      1      2  113781  151.5500   C22   \n",
       "\n",
       "  embarked  \n",
       "0        S  \n",
       "1        S  \n",
       "2        S  \n",
       "3        S  \n",
       "4        S  "
      ]
     },
     "execution_count": 42,
     "metadata": {},
     "output_type": "execute_result"
    }
   ],
   "source": [
    "# remove useless features name, home.dest and body.\n",
    "# remove boat feature. This variable has too much correlation with target variable.\n",
    "data = data.drop(['name', 'home.dest', 'body', 'boat'], axis=1)\n",
    "data.head()"
   ]
  },
  {
   "cell_type": "code",
   "execution_count": 43,
   "id": "82cf77b9",
   "metadata": {
    "scrolled": true
   },
   "outputs": [
    {
     "data": {
      "text/html": [
       "<div>\n",
       "<style scoped>\n",
       "    .dataframe tbody tr th:only-of-type {\n",
       "        vertical-align: middle;\n",
       "    }\n",
       "\n",
       "    .dataframe tbody tr th {\n",
       "        vertical-align: top;\n",
       "    }\n",
       "\n",
       "    .dataframe thead th {\n",
       "        text-align: right;\n",
       "    }\n",
       "</style>\n",
       "<table border=\"1\" class=\"dataframe\">\n",
       "  <thead>\n",
       "    <tr style=\"text-align: right;\">\n",
       "      <th></th>\n",
       "      <th>pclass</th>\n",
       "      <th>survived</th>\n",
       "      <th>sex</th>\n",
       "      <th>age</th>\n",
       "      <th>sibsp</th>\n",
       "      <th>parch</th>\n",
       "      <th>ticket</th>\n",
       "      <th>fare</th>\n",
       "      <th>cabin</th>\n",
       "      <th>embarked</th>\n",
       "    </tr>\n",
       "  </thead>\n",
       "  <tbody>\n",
       "    <tr>\n",
       "      <th>0</th>\n",
       "      <td>1</td>\n",
       "      <td>1</td>\n",
       "      <td>female</td>\n",
       "      <td>29.0000</td>\n",
       "      <td>0</td>\n",
       "      <td>0</td>\n",
       "      <td>24160</td>\n",
       "      <td>211.3375</td>\n",
       "      <td>B</td>\n",
       "      <td>S</td>\n",
       "    </tr>\n",
       "    <tr>\n",
       "      <th>1</th>\n",
       "      <td>1</td>\n",
       "      <td>1</td>\n",
       "      <td>male</td>\n",
       "      <td>0.9167</td>\n",
       "      <td>1</td>\n",
       "      <td>2</td>\n",
       "      <td>113781</td>\n",
       "      <td>151.5500</td>\n",
       "      <td>C</td>\n",
       "      <td>S</td>\n",
       "    </tr>\n",
       "    <tr>\n",
       "      <th>2</th>\n",
       "      <td>1</td>\n",
       "      <td>0</td>\n",
       "      <td>female</td>\n",
       "      <td>2.0000</td>\n",
       "      <td>1</td>\n",
       "      <td>2</td>\n",
       "      <td>113781</td>\n",
       "      <td>151.5500</td>\n",
       "      <td>C</td>\n",
       "      <td>S</td>\n",
       "    </tr>\n",
       "    <tr>\n",
       "      <th>3</th>\n",
       "      <td>1</td>\n",
       "      <td>0</td>\n",
       "      <td>male</td>\n",
       "      <td>30.0000</td>\n",
       "      <td>1</td>\n",
       "      <td>2</td>\n",
       "      <td>113781</td>\n",
       "      <td>151.5500</td>\n",
       "      <td>C</td>\n",
       "      <td>S</td>\n",
       "    </tr>\n",
       "    <tr>\n",
       "      <th>4</th>\n",
       "      <td>1</td>\n",
       "      <td>0</td>\n",
       "      <td>female</td>\n",
       "      <td>25.0000</td>\n",
       "      <td>1</td>\n",
       "      <td>2</td>\n",
       "      <td>113781</td>\n",
       "      <td>151.5500</td>\n",
       "      <td>C</td>\n",
       "      <td>S</td>\n",
       "    </tr>\n",
       "  </tbody>\n",
       "</table>\n",
       "</div>"
      ],
      "text/plain": [
       "   pclass  survived     sex      age  sibsp  parch  ticket      fare cabin  \\\n",
       "0       1         1  female  29.0000      0      0   24160  211.3375     B   \n",
       "1       1         1    male   0.9167      1      2  113781  151.5500     C   \n",
       "2       1         0  female   2.0000      1      2  113781  151.5500     C   \n",
       "3       1         0    male  30.0000      1      2  113781  151.5500     C   \n",
       "4       1         0  female  25.0000      1      2  113781  151.5500     C   \n",
       "\n",
       "  embarked  \n",
       "0        S  \n",
       "1        S  \n",
       "2        S  \n",
       "3        S  \n",
       "4        S  "
      ]
     },
     "execution_count": 43,
     "metadata": {},
     "output_type": "execute_result"
    }
   ],
   "source": [
    "# transform cabin feature to categorical variable\n",
    "cabin_only = data[[\"cabin\"]].copy()\n",
    "cabin_only[\"Deck\"] = cabin_only[\"cabin\"].str.slice(0,1)\n",
    "data = data.assign(cabin = cabin_only[\"Deck\"])\n",
    "data.head()"
   ]
  },
  {
   "cell_type": "code",
   "execution_count": 44,
   "id": "cde797ce",
   "metadata": {},
   "outputs": [
    {
     "data": {
      "text/plain": [
       "array(['24160', '113781', '19952', '13502', '112050', '11769', 'PC 17609',\n",
       "       'PC 17757', 'PC 17477', '19877', '27042', 'PC 17318', 'PC 17558',\n",
       "       '11813', '13050', '11751', '111369', 'PC 17483', '13905', '11967',\n",
       "       'PC 17760', '110564', '113784', '112277', '36928', '113783',\n",
       "       '110489', 'PC 17608', '113505', '111427', '113054', 'PC 17591',\n",
       "       '112379', 'PC 17610', '16966', '113050', '113798', 'PC 17476',\n",
       "       'PC 17606', 'PC 17755', '695', '113059', '113760', '19924',\n",
       "       '17770', 'W.E.P. 5734', '113806', '110152', 'PC 17594', '112051',\n",
       "       '13508', '110465', '5727', 'PC 17756', '11770', '113791',\n",
       "       'WE/P 5735', '112901', 'PC 17599', '113055', '113804',\n",
       "       'F.C. 12750', '17474', '33638', 'PC 17761', '11755', 'PC 17485',\n",
       "       'PC 17580', '11767', '36947', 'PC 17531', 'PC 17598', '17421',\n",
       "       'PC 17474', '113051', '19950', '113778', 'PC 17611', '17765',\n",
       "       '13568', '13567', '112058', '113803', '111320', '113503', '112378',\n",
       "       'PC 17593', '17453', 'PC 17754', '113780', '112053', 'PC 17582',\n",
       "       'PC 17759', '11765', 'PC 17572', '113796', '36973', '112059',\n",
       "       '16988', '12749', '113038', '17463', '680', '111361', '113789',\n",
       "       '111426', '19943', 'PC 17600', '113572', 'PC 17595', '694',\n",
       "       '113044', '11771', '17464', '11753', '113028', '17465', 'PC 17612',\n",
       "       '17475', '112377', 'PC 17592', '113501', '113801', 'PC 17569',\n",
       "       '110469', '11774', '113773', 'PC 17482', 'PC 17473', 'PC 17604',\n",
       "       '13509', '19928', '13236', '113787', 'PC 17596', '35273', '11752',\n",
       "       '693', 'PC 17758', 'F.C. 12998', '113509', 'PC 17562', '112052',\n",
       "       '113043', '113776', '113786', '19972', 'PC 17607', 'PC 17590',\n",
       "       '111428', '113767', 'PC 17613', 'PC 17585', '13049', 'PC 17603',\n",
       "       '113790', '19988', '111163', '113794', 'PC 17475', '13507',\n",
       "       '13213', '113788', '113792', '17764', '13695', '113056', '21228',\n",
       "       '13214', '113514', '11778', 'PC 17605', '36963', '17466', '110413',\n",
       "       '19996', '2543', 'PC 17601', '111240', '36967', '110813', '113800',\n",
       "       '35281', '113795', 'PC 17597', '113510', '19947', '113807',\n",
       "       'P/PP 3381', '248744', '231945', 'C.A. 34050', '226875', '244346',\n",
       "       '29108', 'C.A. 31030', '28551', 'C.A./SOTON 34068', 'S.O.P. 1166',\n",
       "       '2908', '244358', '230136', '248698', '28404', '28425', '237670',\n",
       "       '211535', '220367', '248733', '29750', '236853', '27849', '234686',\n",
       "       '244310', '236852', '248738', 'F.C.C. 13528', '239853', '28424',\n",
       "       '244252', '248731', 'SC/AH 29037', '237789', '2003', 'W./C. 14263',\n",
       "       '248740', '28034', 'C.A. 31921', 'W./C. 14266', '237249',\n",
       "       'F.C.C. 13534', '29107', 'C.A. 33112', 'S.O.C. 14879', '237668',\n",
       "       '244360', 'SC/PARIS 2167', 'C.A. 31029', '231919', '28403',\n",
       "       '28220', 'SC/PARIS 2149', 'SC/PARIS 2148', '29751', '236854',\n",
       "       '236171', '2926', 'C.A. 15185', '229236', '239854', '237671',\n",
       "       '239865', '28664', '243880', '31028', 'C.A. 30769', '28133',\n",
       "       '28134', '248726', '233866', '12233', '250646', '250647', '250653',\n",
       "       '250649', '248746', '248727', 'S.W./PP 752', 'W/C 14208',\n",
       "       'F.C.C. 13529', '220845', '248706', '250650', '29105', '29104',\n",
       "       '242963', '250643', '26707', '237798', '24065', 'SCO/W 1585',\n",
       "       'SO/C 14885', '243847', '237565', 'C.A. 33111', 'SC/AH Basle 541',\n",
       "       '244367', '226593', '233734', '223596', '219533', '239855',\n",
       "       'C.A. 18723', '250651', '240261', 'SC/Paris 2123', 'SC 1748',\n",
       "       'C.A. 34260', 'SC/Paris 2163', 'C.A. 29566', '235509',\n",
       "       'SC/AH 3085', 'S.O./P.P. 3', '237735', 'S.C./PARIS 2079',\n",
       "       'SC/A.3 2861', '28228', '239059', '237216', '233478', '250644',\n",
       "       'SW/PP 751', '248723', '234360', 'C.A. 24580', '211536', '29011',\n",
       "       '250655', '240276', '237736', '230080', '244368', '218629',\n",
       "       'SC/PARIS 2166', 'C.A. 29395', '28213', 'W./C. 14260',\n",
       "       'SC/PARIS 2146', '244278', 'SC/PARIS 2147', 'SC 14888', '230433',\n",
       "       '28665', 'SC/PARIS 2131', '237393', 'S.O./P.P. 2', '234604',\n",
       "       'C.A. 34644', 'SC/PARIS 2168', '26360', 'C.A. 17248', '31027',\n",
       "       '230434', 'SC/PARIS 2133', '29106', 'W./C. 14258', '28004',\n",
       "       'C.A. 31026', '248659', '244361', '250652', '250648', '237442',\n",
       "       '234818', '28206', '31418', 'C.A. 29178', '237734', 'F.C.C. 13540',\n",
       "       '248734', 'F.C.C. 13531', '233639', '240929', '34218', '11668',\n",
       "       '28221', 'CA 31352', '28666', '239856', 'C.A. 33595', '27267',\n",
       "       '228414', '29103', 'C.A. 34651', 'C.A. 24579', 'SC/PARIS 2159',\n",
       "       '244270', '244373', '220844', '248747', 'C.A. 5547', 'C.A. 2673',\n",
       "       '348125', '348122', 'SOTON/O2 3101284', '2657', 'C 7076', '341826',\n",
       "       '7546', '392091', '2699', '3474', 'SOTON/O2 3101287',\n",
       "       'SOTON/O.Q. 3101311', 'SOTON/O.Q. 3101312', '373450', '2223',\n",
       "       'C 4001', '350046', '347082', '3101281', '347091', '350043',\n",
       "       '347075', '347466', '349202', '349237', '349911',\n",
       "       'SOTON/O.Q. 3101310', '347077', '350054', '2696', '2692',\n",
       "       'SOTON/O.Q. 3101309', '2627', '2694', '347468', '2687', '2679',\n",
       "       '3101278', '2666', 'A/4 31416', '2623', '349248', '2663', '2691',\n",
       "       '330844', '324669', '323951', '347068', 'PP 4348', '2622', '2648',\n",
       "       '1601', '312992', '347090', '349224', '2678', '2664', '364848',\n",
       "       '364849', '54636', '334914', '347471', '3460', 'A/5 21171',\n",
       "       '350045', '364512', '329944', '330920', '365222', '330963',\n",
       "       '315087', '315084', '315091', '315089', '315093', '315086',\n",
       "       '364846', '364858', 'A./5. 2152', '2689', '350042', '350409',\n",
       "       '367231', '368364', '392095', '343275', 'A/5. 13032', '343276',\n",
       "       '2680', 'SOTON/O.Q. 3101307', 'A/5 3540', '371109', '349210',\n",
       "       '349209', '21332', '335097', '370373', '330972', '370369',\n",
       "       'A/5 3536', '349230', '349229', '349231', 'SOTON/OQ 392090',\n",
       "       'C.A. 37671', '364500', 'S.P. 3464', '371362', '315090', '2698',\n",
       "       '7598', '7552', '349228', '382650', '382651', '347080', '349219',\n",
       "       '349203', 'A/4 48871', 'SC/A4 23568', 'A/4 48873', '386525',\n",
       "       '345572', '345774', '345778', 'C.A. 2315', '349250', '349238',\n",
       "       '349225', 'A/5 21172', 'A/5 21175', '330958', '349232', '315088',\n",
       "       '349226', '2686', '370376', 'A/5. 10482', '364516', '368702',\n",
       "       'SOTON/OQ 392083', '349241', '336439', 'S.O./P.P. 752', '347072',\n",
       "       '349912', '347074', '347061', '2674', '2675', '2690', '2695',\n",
       "       'A/5 3902', '2631', 'C.A. 6212', '367232', 'SOTON/O.Q. 3101308',\n",
       "       '350036', '364859', '364851', '368323', '330910', '365235',\n",
       "       'W./C. 6608', 'A/5 1478', '368573', 'SOTON/O.Q. 3101314', '36864',\n",
       "       '358585', '349254', '14973', '35851', '335677', '363291',\n",
       "       'SOTON/O.Q. 3101263', 'SOTON/O.Q. 3101306', 'CA 2144', '21440',\n",
       "       '8471', '376563', '7534', '3101276', '3101277', '347069', '349236',\n",
       "       'AQ/3. 30631', '65303', '65304', 'STON/O2. 3101279', '345769',\n",
       "       '2693', '350026', '350025', '350029', 'W./C. 6609', '374887',\n",
       "       '394140', '370375', '347089', '365226', 'STON/O2. 3101282',\n",
       "       'STON/O2. 3101290', '7548', '349243', '347086', '382649',\n",
       "       '3101298', 'C 7075', 'STON/O2. 3101283', '370377', 'A. 2. 39186',\n",
       "       '348121', '3470', '2685', '349220', 'STON/O2. 3101270',\n",
       "       'STON/O2. 3101271', '349201', '349240', '350034',\n",
       "       'SOTON/O.Q. 3101305', '350050', '350047', '350048', '14313',\n",
       "       '65306', '3101264', '347070', '350052', '7540', '347063', '347467',\n",
       "       '347742', 'LINE', '347062', 'W./C. 6607', '349204', '350417',\n",
       "       '350408', '4136', '4137', 'STON/O 2. 3101286', 'STON/O 2. 3101274',\n",
       "       '8475', '349246', '350053', '347465', '350060', '349256', '2700',\n",
       "       '2682', '12460', '323592', '9234', '14312', '330911', '363592',\n",
       "       '368783', '2660', '367227', '367229', '36865', '315152', '315151',\n",
       "       '315153', '350405', '350404', '349253', '2654', '2624', '4135',\n",
       "       '349217', 'C 7077', '7935', '7545', '347067', '347065', '2620',\n",
       "       '4133', 'STON/O 2. 3101292', '2683', '370371', '345781', '347071',\n",
       "       '347073', '349910', 'STON/O 2. 3101285', '330971', 'S.O./P.P. 251',\n",
       "       'A/5. 3336', '1222', 'A/5 21173', '315098', '347743', '347469',\n",
       "       '350403', '349235', 'C.A. 42795', '370370', 'C 17369',\n",
       "       'STON/O 2. 3101275', '330924', 'AQ/4 3130', 'A/S 2816',\n",
       "       'STON/O 2. 3101268', '2677', '364850', '36866', '2655', '349213',\n",
       "       '349257', '2649', '349255', '383123', '367228', '367226', '330932',\n",
       "       '36568', '330931', '330923', '9232', '370372', '376566', '370368',\n",
       "       'SOTON/O.Q. 392087', '343095', 'A.5. 11206', '368703', '345501',\n",
       "       '359306', '349233', '349211', '349207', '349221', '330980',\n",
       "       '348123', '392096', 'A4. 54510', '371110', '330877', '364506',\n",
       "       '372622', '312991', '2661', '2626', '374746', '35852', '382653',\n",
       "       'A./5. 3235', '367230', '347078', '349206', '2667', '2653',\n",
       "       'A./5. 3338', '349218', '2652', '365237', '349234', '2651',\n",
       "       '3101297', '363611', '347066', '347470', '350410',\n",
       "       'SOTON/O2 3101272', 'STON/O 2. 3101289', 'A/4. 39886', '2697',\n",
       "       '347081', '345364', '370365', '330979', '334912', '371060',\n",
       "       '366713', '7267', '364856', '14311', '330959', '347085', '368402',\n",
       "       '330919', 'C 17368', '4579', 'Fa 265302', '350407', '347464',\n",
       "       '347079', '6563', '315085', '315096', '315094', '349244', '330909',\n",
       "       '349909', '3101295', '315097', '3411', '349242',\n",
       "       'SOTON/O.Q. 3101315', '343271', '345498', 'A/5 2817',\n",
       "       'STON/O 2. 3101294', 'STON/O 2. 3101291', 'A/5 21174', '347083',\n",
       "       '2668', '330935', '342441', '349245', '349212', '349215', '347076',\n",
       "       '347087', 'SOTON/O.Q. 392078', '349227', '315095', '315092',\n",
       "       '349223', '65305', '2629', '362316', '349249', '342684', '382652',\n",
       "       'STON/O 2. 3101273', '334915', '364498', 'A/5. 3337',\n",
       "       'S.C./A.4. 23567', '312993', '370129', '342712', 'A/5 3594',\n",
       "       'A/4. 20589', '383162', '2671', '2672', '2676', '367655',\n",
       "       'LP 1588', 'SOTON/O.Q. 3101262', 'CA. 2343', '7266', '343120',\n",
       "       '3101296', '2662', 'PP 9549', '345768', 'A/5. 2151', '342826',\n",
       "       '36209', '349222', '370374', '345779', '330968', '374910',\n",
       "       'SOTON/OQ 392082', '2669', '392092', '349251', 'STON/O 2. 3101280',\n",
       "       '3101265', '347088', '349214', 'SOTON/OQ 392086', '315037',\n",
       "       '384461', '335432', '348124', 'A.5. 18509', 'A.5. 3236',\n",
       "       'STON/OQ. 369943', '349208', '349239', 'CA. 2314', 'A/4 45380',\n",
       "       '3701', '349205', '7553', 'STON/O 2. 3101288', '315083', '347054',\n",
       "       'SOTON/OQ 392089', 'STON/O 2. 3101269', 'SOTON/OQ 392076',\n",
       "       '347060', '7538', '350035', '350033', '363294', '2625', '2621',\n",
       "       '2681', '2684', '32302', '376564', 'STON/O 2. 3101293', '383121',\n",
       "       '349216', '364499', '364511', '2673', '2641', '2650', '349247',\n",
       "       '4138', '4134', 'A/5. 851', '345773', '345777', '345780', '345770',\n",
       "       '345783', '345765', '345764', '345763', '2658', '350416', '350406',\n",
       "       '349252', '345767', '359309', 'C.A. 49867', 'SOTON/OQ 3101316',\n",
       "       '345775', '2688', '347064', '3101267', '3101266', '363272', '3410',\n",
       "       'S.O./P.P. 751', 'A/5 2466', 'SOTON/OQ 3101317', '315154',\n",
       "       'A/4. 34244', '345771', '2659', '2628', '2647', '2665', '2656',\n",
       "       '2670', '315082'], dtype=object)"
      ]
     },
     "execution_count": 44,
     "metadata": {},
     "output_type": "execute_result"
    }
   ],
   "source": [
    "data.ticket.unique()"
   ]
  },
  {
   "cell_type": "code",
   "execution_count": 45,
   "id": "ab8a3691",
   "metadata": {},
   "outputs": [
    {
     "data": {
      "text/html": [
       "<div>\n",
       "<style scoped>\n",
       "    .dataframe tbody tr th:only-of-type {\n",
       "        vertical-align: middle;\n",
       "    }\n",
       "\n",
       "    .dataframe tbody tr th {\n",
       "        vertical-align: top;\n",
       "    }\n",
       "\n",
       "    .dataframe thead th {\n",
       "        text-align: right;\n",
       "    }\n",
       "</style>\n",
       "<table border=\"1\" class=\"dataframe\">\n",
       "  <thead>\n",
       "    <tr style=\"text-align: right;\">\n",
       "      <th></th>\n",
       "      <th>pclass</th>\n",
       "      <th>survived</th>\n",
       "      <th>sex</th>\n",
       "      <th>age</th>\n",
       "      <th>sibsp</th>\n",
       "      <th>parch</th>\n",
       "      <th>ticket</th>\n",
       "      <th>fare</th>\n",
       "      <th>cabin</th>\n",
       "      <th>embarked</th>\n",
       "      <th>ticket_num</th>\n",
       "      <th>ticket_cat</th>\n",
       "    </tr>\n",
       "  </thead>\n",
       "  <tbody>\n",
       "    <tr>\n",
       "      <th>0</th>\n",
       "      <td>1</td>\n",
       "      <td>1</td>\n",
       "      <td>female</td>\n",
       "      <td>29.0000</td>\n",
       "      <td>0</td>\n",
       "      <td>0</td>\n",
       "      <td>24160</td>\n",
       "      <td>211.3375</td>\n",
       "      <td>B</td>\n",
       "      <td>S</td>\n",
       "      <td>24160.0</td>\n",
       "      <td>NaN</td>\n",
       "    </tr>\n",
       "    <tr>\n",
       "      <th>1</th>\n",
       "      <td>1</td>\n",
       "      <td>1</td>\n",
       "      <td>male</td>\n",
       "      <td>0.9167</td>\n",
       "      <td>1</td>\n",
       "      <td>2</td>\n",
       "      <td>113781</td>\n",
       "      <td>151.5500</td>\n",
       "      <td>C</td>\n",
       "      <td>S</td>\n",
       "      <td>113781.0</td>\n",
       "      <td>NaN</td>\n",
       "    </tr>\n",
       "    <tr>\n",
       "      <th>2</th>\n",
       "      <td>1</td>\n",
       "      <td>0</td>\n",
       "      <td>female</td>\n",
       "      <td>2.0000</td>\n",
       "      <td>1</td>\n",
       "      <td>2</td>\n",
       "      <td>113781</td>\n",
       "      <td>151.5500</td>\n",
       "      <td>C</td>\n",
       "      <td>S</td>\n",
       "      <td>113781.0</td>\n",
       "      <td>NaN</td>\n",
       "    </tr>\n",
       "    <tr>\n",
       "      <th>3</th>\n",
       "      <td>1</td>\n",
       "      <td>0</td>\n",
       "      <td>male</td>\n",
       "      <td>30.0000</td>\n",
       "      <td>1</td>\n",
       "      <td>2</td>\n",
       "      <td>113781</td>\n",
       "      <td>151.5500</td>\n",
       "      <td>C</td>\n",
       "      <td>S</td>\n",
       "      <td>113781.0</td>\n",
       "      <td>NaN</td>\n",
       "    </tr>\n",
       "    <tr>\n",
       "      <th>4</th>\n",
       "      <td>1</td>\n",
       "      <td>0</td>\n",
       "      <td>female</td>\n",
       "      <td>25.0000</td>\n",
       "      <td>1</td>\n",
       "      <td>2</td>\n",
       "      <td>113781</td>\n",
       "      <td>151.5500</td>\n",
       "      <td>C</td>\n",
       "      <td>S</td>\n",
       "      <td>113781.0</td>\n",
       "      <td>NaN</td>\n",
       "    </tr>\n",
       "  </tbody>\n",
       "</table>\n",
       "</div>"
      ],
      "text/plain": [
       "   pclass  survived     sex      age  sibsp  parch  ticket      fare cabin  \\\n",
       "0       1         1  female  29.0000      0      0   24160  211.3375     B   \n",
       "1       1         1    male   0.9167      1      2  113781  151.5500     C   \n",
       "2       1         0  female   2.0000      1      2  113781  151.5500     C   \n",
       "3       1         0    male  30.0000      1      2  113781  151.5500     C   \n",
       "4       1         0  female  25.0000      1      2  113781  151.5500     C   \n",
       "\n",
       "  embarked  ticket_num ticket_cat  \n",
       "0        S     24160.0        NaN  \n",
       "1        S    113781.0        NaN  \n",
       "2        S    113781.0        NaN  \n",
       "3        S    113781.0        NaN  \n",
       "4        S    113781.0        NaN  "
      ]
     },
     "execution_count": 45,
     "metadata": {},
     "output_type": "execute_result"
    }
   ],
   "source": [
    "# transform ticket feature to numerical variable\n",
    "data['ticket_num'] = data['ticket'].apply(lambda s: s.split()[-1])\n",
    "data['ticket_num'] = pd.to_numeric(data['ticket_num'],\n",
    "                                   errors = 'coerce',\n",
    "                                   downcast = 'integer')\n",
    "\n",
    "data['ticket_cat'] = data['ticket'].apply(lambda s: s.split()[0])\n",
    "data['ticket_cat'] = np.where(data['ticket_cat'].str.isdigit(), np.nan, data['ticket_cat'])\n",
    "\n",
    "data.head()"
   ]
  },
  {
   "cell_type": "code",
   "execution_count": 46,
   "id": "7d8f0c11",
   "metadata": {},
   "outputs": [
    {
     "name": "stdout",
     "output_type": "stream",
     "text": [
      "ticket_cat missing data: 73.1%\n",
      "ticket_num missing data: 0.3%\n"
     ]
    }
   ],
   "source": [
    "print(\"ticket_cat missing data: {}%\".format(round(data['ticket_cat'].isnull().mean(), 3) * 100))\n",
    "\n",
    "print(\"ticket_num missing data: {}%\".format(round(data['ticket_num'].isnull().mean(), 3) * 100))"
   ]
  },
  {
   "cell_type": "code",
   "execution_count": 47,
   "id": "841a44e8",
   "metadata": {
    "scrolled": false
   },
   "outputs": [],
   "source": [
    "# We removed ticket_cat because there is 73% missing data.\n",
    "# Also we drop original 'ticket' variable and decided to use only 'ticket_num'\n",
    "data = data.drop(['ticket_cat', 'ticket'], axis=1)"
   ]
  },
  {
   "cell_type": "code",
   "execution_count": 48,
   "id": "6987a31c",
   "metadata": {},
   "outputs": [],
   "source": [
    "# count family members\n",
    "data[\"FamilyMemberCount\"] = data[\"sibsp\"] + data[\"parch\"] + 1\n",
    "\n",
    "# create new variable to show is person alone or not\n",
    "data[\"IsAlone\"] = data[\"FamilyMemberCount\"].apply(lambda x: 1 if x == 1 else 0)"
   ]
  },
  {
   "cell_type": "code",
   "execution_count": 49,
   "id": "432499e3",
   "metadata": {},
   "outputs": [
    {
     "data": {
      "text/html": [
       "<div>\n",
       "<style scoped>\n",
       "    .dataframe tbody tr th:only-of-type {\n",
       "        vertical-align: middle;\n",
       "    }\n",
       "\n",
       "    .dataframe tbody tr th {\n",
       "        vertical-align: top;\n",
       "    }\n",
       "\n",
       "    .dataframe thead th {\n",
       "        text-align: right;\n",
       "    }\n",
       "</style>\n",
       "<table border=\"1\" class=\"dataframe\">\n",
       "  <thead>\n",
       "    <tr style=\"text-align: right;\">\n",
       "      <th></th>\n",
       "      <th>pclass</th>\n",
       "      <th>survived</th>\n",
       "      <th>sex</th>\n",
       "      <th>age</th>\n",
       "      <th>sibsp</th>\n",
       "      <th>parch</th>\n",
       "      <th>fare</th>\n",
       "      <th>cabin</th>\n",
       "      <th>embarked</th>\n",
       "      <th>ticket_num</th>\n",
       "      <th>FamilyMemberCount</th>\n",
       "      <th>IsAlone</th>\n",
       "    </tr>\n",
       "  </thead>\n",
       "  <tbody>\n",
       "    <tr>\n",
       "      <th>0</th>\n",
       "      <td>1</td>\n",
       "      <td>1</td>\n",
       "      <td>female</td>\n",
       "      <td>29.0000</td>\n",
       "      <td>0</td>\n",
       "      <td>0</td>\n",
       "      <td>211.3375</td>\n",
       "      <td>B</td>\n",
       "      <td>S</td>\n",
       "      <td>24160.0</td>\n",
       "      <td>1</td>\n",
       "      <td>1</td>\n",
       "    </tr>\n",
       "    <tr>\n",
       "      <th>1</th>\n",
       "      <td>1</td>\n",
       "      <td>1</td>\n",
       "      <td>male</td>\n",
       "      <td>0.9167</td>\n",
       "      <td>1</td>\n",
       "      <td>2</td>\n",
       "      <td>151.5500</td>\n",
       "      <td>C</td>\n",
       "      <td>S</td>\n",
       "      <td>113781.0</td>\n",
       "      <td>4</td>\n",
       "      <td>0</td>\n",
       "    </tr>\n",
       "    <tr>\n",
       "      <th>2</th>\n",
       "      <td>1</td>\n",
       "      <td>0</td>\n",
       "      <td>female</td>\n",
       "      <td>2.0000</td>\n",
       "      <td>1</td>\n",
       "      <td>2</td>\n",
       "      <td>151.5500</td>\n",
       "      <td>C</td>\n",
       "      <td>S</td>\n",
       "      <td>113781.0</td>\n",
       "      <td>4</td>\n",
       "      <td>0</td>\n",
       "    </tr>\n",
       "    <tr>\n",
       "      <th>3</th>\n",
       "      <td>1</td>\n",
       "      <td>0</td>\n",
       "      <td>male</td>\n",
       "      <td>30.0000</td>\n",
       "      <td>1</td>\n",
       "      <td>2</td>\n",
       "      <td>151.5500</td>\n",
       "      <td>C</td>\n",
       "      <td>S</td>\n",
       "      <td>113781.0</td>\n",
       "      <td>4</td>\n",
       "      <td>0</td>\n",
       "    </tr>\n",
       "    <tr>\n",
       "      <th>4</th>\n",
       "      <td>1</td>\n",
       "      <td>0</td>\n",
       "      <td>female</td>\n",
       "      <td>25.0000</td>\n",
       "      <td>1</td>\n",
       "      <td>2</td>\n",
       "      <td>151.5500</td>\n",
       "      <td>C</td>\n",
       "      <td>S</td>\n",
       "      <td>113781.0</td>\n",
       "      <td>4</td>\n",
       "      <td>0</td>\n",
       "    </tr>\n",
       "  </tbody>\n",
       "</table>\n",
       "</div>"
      ],
      "text/plain": [
       "   pclass  survived     sex      age  sibsp  parch      fare cabin embarked  \\\n",
       "0       1         1  female  29.0000      0      0  211.3375     B        S   \n",
       "1       1         1    male   0.9167      1      2  151.5500     C        S   \n",
       "2       1         0  female   2.0000      1      2  151.5500     C        S   \n",
       "3       1         0    male  30.0000      1      2  151.5500     C        S   \n",
       "4       1         0  female  25.0000      1      2  151.5500     C        S   \n",
       "\n",
       "   ticket_num  FamilyMemberCount  IsAlone  \n",
       "0     24160.0                  1        1  \n",
       "1    113781.0                  4        0  \n",
       "2    113781.0                  4        0  \n",
       "3    113781.0                  4        0  \n",
       "4    113781.0                  4        0  "
      ]
     },
     "execution_count": 49,
     "metadata": {},
     "output_type": "execute_result"
    }
   ],
   "source": [
    "data.head()"
   ]
  },
  {
   "cell_type": "markdown",
   "id": "f83966ff",
   "metadata": {},
   "source": [
    "This the final version of dataset that we are going to use in next data preprocessing steps."
   ]
  },
  {
   "cell_type": "code",
   "execution_count": 53,
   "id": "7ba0d11d",
   "metadata": {},
   "outputs": [
    {
     "name": "stdout",
     "output_type": "stream",
     "text": [
      "<class 'pandas.core.frame.DataFrame'>\n",
      "RangeIndex: 1309 entries, 0 to 1308\n",
      "Data columns (total 12 columns):\n",
      " #   Column             Non-Null Count  Dtype  \n",
      "---  ------             --------------  -----  \n",
      " 0   pclass             1309 non-null   int64  \n",
      " 1   survived           1309 non-null   int64  \n",
      " 2   sex                1309 non-null   object \n",
      " 3   age                1046 non-null   float64\n",
      " 4   sibsp              1309 non-null   int64  \n",
      " 5   parch              1309 non-null   int64  \n",
      " 6   fare               1308 non-null   float64\n",
      " 7   cabin              295 non-null    object \n",
      " 8   embarked           1307 non-null   object \n",
      " 9   ticket_num         1305 non-null   float64\n",
      " 10  FamilyMemberCount  1309 non-null   int64  \n",
      " 11  IsAlone            1309 non-null   int64  \n",
      "dtypes: float64(3), int64(6), object(3)\n",
      "memory usage: 122.8+ KB\n"
     ]
    }
   ],
   "source": [
    "data.info()"
   ]
  },
  {
   "cell_type": "markdown",
   "id": "77677ad1",
   "metadata": {},
   "source": [
    "## Missing Data imputation"
   ]
  },
  {
   "cell_type": "code",
   "execution_count": 54,
   "id": "b1e812f7",
   "metadata": {},
   "outputs": [
    {
     "data": {
      "text/plain": [
       "((981, 11), (328, 11))"
      ]
     },
     "execution_count": 54,
     "metadata": {},
     "output_type": "execute_result"
    }
   ],
   "source": [
    "# Separate into training and test set\n",
    "\n",
    "X_train, X_test, y_train, y_test = train_test_split(data.drop(['survived'], axis = 1),\n",
    "                                                   data['survived'],\n",
    "                                                   test_size=0.25,\n",
    "                                                   random_state=0)\n",
    "X_train.shape, X_test.shape"
   ]
  },
  {
   "cell_type": "code",
   "execution_count": 55,
   "id": "1c741931",
   "metadata": {},
   "outputs": [],
   "source": [
    "# Transform Categorical variables as type 'category'\n",
    "\n",
    "X_train.pclass = X_train.pclass.astype('category')\n",
    "X_train.sex = X_train.sex.astype('category')\n",
    "X_train.cabin = X_train.cabin.astype('category')\n",
    "X_train.embarked = X_train.embarked.astype('category')\n",
    "X_train.ticket_num = X_train.ticket_num.astype('category')\n",
    "\n",
    "X_test.pclass = X_test.pclass.astype('category')\n",
    "X_test.sex = X_test.sex.astype('category')\n",
    "X_test.cabin = X_test.cabin.astype('category')\n",
    "X_test.embarked = X_test.embarked.astype('category')\n",
    "X_test.ticket_num = X_test.ticket_num.astype('category')"
   ]
  },
  {
   "cell_type": "code",
   "execution_count": 56,
   "id": "ff170bcb",
   "metadata": {},
   "outputs": [
    {
     "name": "stdout",
     "output_type": "stream",
     "text": [
      "<class 'pandas.core.frame.DataFrame'>\n",
      "Int64Index: 981 entries, 747 to 684\n",
      "Data columns (total 11 columns):\n",
      " #   Column             Non-Null Count  Dtype   \n",
      "---  ------             --------------  -----   \n",
      " 0   pclass             981 non-null    category\n",
      " 1   sex                981 non-null    category\n",
      " 2   age                791 non-null    float64 \n",
      " 3   sibsp              981 non-null    int64   \n",
      " 4   parch              981 non-null    int64   \n",
      " 5   fare               980 non-null    float64 \n",
      " 6   cabin              231 non-null    category\n",
      " 7   embarked           979 non-null    category\n",
      " 8   ticket_num         978 non-null    category\n",
      " 9   FamilyMemberCount  981 non-null    int64   \n",
      " 10  IsAlone            981 non-null    int64   \n",
      "dtypes: category(5), float64(2), int64(4)\n",
      "memory usage: 82.0 KB\n"
     ]
    }
   ],
   "source": [
    "X_train.info()"
   ]
  },
  {
   "cell_type": "code",
   "execution_count": 57,
   "id": "49ddcddf",
   "metadata": {},
   "outputs": [
    {
     "data": {
      "text/plain": [
       "cabin                750\n",
       "age                  190\n",
       "ticket_num             3\n",
       "embarked               2\n",
       "fare                   1\n",
       "pclass                 0\n",
       "sex                    0\n",
       "sibsp                  0\n",
       "parch                  0\n",
       "FamilyMemberCount      0\n",
       "IsAlone                0\n",
       "dtype: int64"
      ]
     },
     "execution_count": 57,
     "metadata": {},
     "output_type": "execute_result"
    }
   ],
   "source": [
    "# check missing data\n",
    "\n",
    "X_train.isnull().sum().sort_values(ascending = False)"
   ]
  },
  {
   "cell_type": "code",
   "execution_count": 58,
   "id": "d79cd2fa",
   "metadata": {},
   "outputs": [],
   "source": [
    "# Function to impute cabin variable\n",
    "def cabin_imputer(data):\n",
    "    columns_names = [c for c in data.columns]\n",
    "    first_class = data.loc[data.pclass == 1]\n",
    "    second_class = data.loc[data.pclass == 2]\n",
    "    third_class = data.loc[data.pclass == 3]\n",
    "    imputer = SimpleImputer(strategy = 'most_frequent')\n",
    "    imputer.fit(first_class['cabin'].values.reshape(-1, 1))\n",
    "    imputer.fit(second_class['cabin'].values.reshape(-1, 1))\n",
    "    imputer.fit(third_class['cabin'].values.reshape(-1, 1))\n",
    "    first_class['cabin'] = imputer.transform(first_class['cabin'].values.reshape(-1, 1))\n",
    "    second_class['cabin'] = imputer.transform(second_class['cabin'].values.reshape(-1, 1))\n",
    "    third_class['cabin'] = imputer.transform(third_class['cabin'].values.reshape(-1, 1))\n",
    "    data = pd.concat([first_class, second_class, third_class])\n",
    "    return data"
   ]
  },
  {
   "cell_type": "code",
   "execution_count": 59,
   "id": "a9a6ca44",
   "metadata": {},
   "outputs": [
    {
     "data": {
      "text/plain": [
       "cabin                750\n",
       "age                  190\n",
       "ticket_num             3\n",
       "embarked               2\n",
       "fare                   1\n",
       "pclass                 0\n",
       "sex                    0\n",
       "sibsp                  0\n",
       "parch                  0\n",
       "FamilyMemberCount      0\n",
       "IsAlone                0\n",
       "dtype: int64"
      ]
     },
     "execution_count": 59,
     "metadata": {},
     "output_type": "execute_result"
    }
   ],
   "source": [
    "X_train.isnull().sum().sort_values(ascending = False)"
   ]
  },
  {
   "cell_type": "code",
   "execution_count": 60,
   "id": "f8554c13",
   "metadata": {},
   "outputs": [
    {
     "data": {
      "text/html": [
       "<div>\n",
       "<style scoped>\n",
       "    .dataframe tbody tr th:only-of-type {\n",
       "        vertical-align: middle;\n",
       "    }\n",
       "\n",
       "    .dataframe tbody tr th {\n",
       "        vertical-align: top;\n",
       "    }\n",
       "\n",
       "    .dataframe thead th {\n",
       "        text-align: right;\n",
       "    }\n",
       "</style>\n",
       "<table border=\"1\" class=\"dataframe\">\n",
       "  <thead>\n",
       "    <tr style=\"text-align: right;\">\n",
       "      <th></th>\n",
       "      <th>pclass</th>\n",
       "      <th>sex</th>\n",
       "      <th>age</th>\n",
       "      <th>sibsp</th>\n",
       "      <th>parch</th>\n",
       "      <th>fare</th>\n",
       "      <th>cabin</th>\n",
       "      <th>embarked</th>\n",
       "      <th>ticket_num</th>\n",
       "      <th>FamilyMemberCount</th>\n",
       "      <th>IsAlone</th>\n",
       "    </tr>\n",
       "  </thead>\n",
       "  <tbody>\n",
       "    <tr>\n",
       "      <th>747</th>\n",
       "      <td>3</td>\n",
       "      <td>male</td>\n",
       "      <td>0.3333</td>\n",
       "      <td>0</td>\n",
       "      <td>2</td>\n",
       "      <td>14.4000</td>\n",
       "      <td>NaN</td>\n",
       "      <td>S</td>\n",
       "      <td>347080.0</td>\n",
       "      <td>3</td>\n",
       "      <td>0</td>\n",
       "    </tr>\n",
       "    <tr>\n",
       "      <th>565</th>\n",
       "      <td>2</td>\n",
       "      <td>male</td>\n",
       "      <td>25.0000</td>\n",
       "      <td>0</td>\n",
       "      <td>0</td>\n",
       "      <td>13.0000</td>\n",
       "      <td>NaN</td>\n",
       "      <td>S</td>\n",
       "      <td>29178.0</td>\n",
       "      <td>1</td>\n",
       "      <td>1</td>\n",
       "    </tr>\n",
       "    <tr>\n",
       "      <th>82</th>\n",
       "      <td>1</td>\n",
       "      <td>female</td>\n",
       "      <td>36.0000</td>\n",
       "      <td>0</td>\n",
       "      <td>2</td>\n",
       "      <td>71.0000</td>\n",
       "      <td>B</td>\n",
       "      <td>S</td>\n",
       "      <td>5735.0</td>\n",
       "      <td>3</td>\n",
       "      <td>0</td>\n",
       "    </tr>\n",
       "    <tr>\n",
       "      <th>567</th>\n",
       "      <td>2</td>\n",
       "      <td>male</td>\n",
       "      <td>25.0000</td>\n",
       "      <td>0</td>\n",
       "      <td>0</td>\n",
       "      <td>10.5000</td>\n",
       "      <td>NaN</td>\n",
       "      <td>S</td>\n",
       "      <td>13540.0</td>\n",
       "      <td>1</td>\n",
       "      <td>1</td>\n",
       "    </tr>\n",
       "    <tr>\n",
       "      <th>863</th>\n",
       "      <td>3</td>\n",
       "      <td>male</td>\n",
       "      <td>28.0000</td>\n",
       "      <td>0</td>\n",
       "      <td>0</td>\n",
       "      <td>7.8958</td>\n",
       "      <td>NaN</td>\n",
       "      <td>S</td>\n",
       "      <td>349243.0</td>\n",
       "      <td>1</td>\n",
       "      <td>1</td>\n",
       "    </tr>\n",
       "    <tr>\n",
       "      <th>...</th>\n",
       "      <td>...</td>\n",
       "      <td>...</td>\n",
       "      <td>...</td>\n",
       "      <td>...</td>\n",
       "      <td>...</td>\n",
       "      <td>...</td>\n",
       "      <td>...</td>\n",
       "      <td>...</td>\n",
       "      <td>...</td>\n",
       "      <td>...</td>\n",
       "      <td>...</td>\n",
       "    </tr>\n",
       "    <tr>\n",
       "      <th>763</th>\n",
       "      <td>3</td>\n",
       "      <td>female</td>\n",
       "      <td>0.1667</td>\n",
       "      <td>1</td>\n",
       "      <td>2</td>\n",
       "      <td>20.5750</td>\n",
       "      <td>NaN</td>\n",
       "      <td>S</td>\n",
       "      <td>2315.0</td>\n",
       "      <td>4</td>\n",
       "      <td>0</td>\n",
       "    </tr>\n",
       "    <tr>\n",
       "      <th>835</th>\n",
       "      <td>3</td>\n",
       "      <td>male</td>\n",
       "      <td>NaN</td>\n",
       "      <td>0</td>\n",
       "      <td>0</td>\n",
       "      <td>8.0500</td>\n",
       "      <td>NaN</td>\n",
       "      <td>S</td>\n",
       "      <td>376563.0</td>\n",
       "      <td>1</td>\n",
       "      <td>1</td>\n",
       "    </tr>\n",
       "    <tr>\n",
       "      <th>1216</th>\n",
       "      <td>3</td>\n",
       "      <td>female</td>\n",
       "      <td>NaN</td>\n",
       "      <td>0</td>\n",
       "      <td>0</td>\n",
       "      <td>7.7333</td>\n",
       "      <td>NaN</td>\n",
       "      <td>Q</td>\n",
       "      <td>335432.0</td>\n",
       "      <td>1</td>\n",
       "      <td>1</td>\n",
       "    </tr>\n",
       "    <tr>\n",
       "      <th>559</th>\n",
       "      <td>2</td>\n",
       "      <td>female</td>\n",
       "      <td>20.0000</td>\n",
       "      <td>0</td>\n",
       "      <td>0</td>\n",
       "      <td>36.7500</td>\n",
       "      <td>NaN</td>\n",
       "      <td>S</td>\n",
       "      <td>33112.0</td>\n",
       "      <td>1</td>\n",
       "      <td>1</td>\n",
       "    </tr>\n",
       "    <tr>\n",
       "      <th>684</th>\n",
       "      <td>3</td>\n",
       "      <td>female</td>\n",
       "      <td>32.0000</td>\n",
       "      <td>1</td>\n",
       "      <td>1</td>\n",
       "      <td>15.5000</td>\n",
       "      <td>NaN</td>\n",
       "      <td>Q</td>\n",
       "      <td>364849.0</td>\n",
       "      <td>3</td>\n",
       "      <td>0</td>\n",
       "    </tr>\n",
       "  </tbody>\n",
       "</table>\n",
       "<p>981 rows × 11 columns</p>\n",
       "</div>"
      ],
      "text/plain": [
       "     pclass     sex      age  sibsp  parch     fare cabin embarked ticket_num  \\\n",
       "747       3    male   0.3333      0      2  14.4000   NaN        S   347080.0   \n",
       "565       2    male  25.0000      0      0  13.0000   NaN        S    29178.0   \n",
       "82        1  female  36.0000      0      2  71.0000     B        S     5735.0   \n",
       "567       2    male  25.0000      0      0  10.5000   NaN        S    13540.0   \n",
       "863       3    male  28.0000      0      0   7.8958   NaN        S   349243.0   \n",
       "...     ...     ...      ...    ...    ...      ...   ...      ...        ...   \n",
       "763       3  female   0.1667      1      2  20.5750   NaN        S     2315.0   \n",
       "835       3    male      NaN      0      0   8.0500   NaN        S   376563.0   \n",
       "1216      3  female      NaN      0      0   7.7333   NaN        Q   335432.0   \n",
       "559       2  female  20.0000      0      0  36.7500   NaN        S    33112.0   \n",
       "684       3  female  32.0000      1      1  15.5000   NaN        Q   364849.0   \n",
       "\n",
       "      FamilyMemberCount  IsAlone  \n",
       "747                   3        0  \n",
       "565                   1        1  \n",
       "82                    3        0  \n",
       "567                   1        1  \n",
       "863                   1        1  \n",
       "...                 ...      ...  \n",
       "763                   4        0  \n",
       "835                   1        1  \n",
       "1216                  1        1  \n",
       "559                   1        1  \n",
       "684                   3        0  \n",
       "\n",
       "[981 rows x 11 columns]"
      ]
     },
     "execution_count": 60,
     "metadata": {},
     "output_type": "execute_result"
    }
   ],
   "source": [
    "X_train"
   ]
  },
  {
   "cell_type": "code",
   "execution_count": 61,
   "id": "100bd3dd",
   "metadata": {},
   "outputs": [
    {
     "name": "stdout",
     "output_type": "stream",
     "text": [
      "Numerical vars: 6\n",
      "Categorical vars: 5\n"
     ]
    }
   ],
   "source": [
    "# Find categorical features\n",
    "categorical_features = [var for var in X_train.columns if X_train[var].dtype == 'category' ]\n",
    "\n",
    "# Find numerical features\n",
    "numerical_features = [var for var in X_train.columns if X_train[var].dtype != 'category' and var != 'survived']\n",
    "\n",
    "print(\"Numerical vars: {}\".format(len(numerical_features)))\n",
    "print(\"Categorical vars: {}\".format(len(categorical_features)))"
   ]
  },
  {
   "cell_type": "code",
   "execution_count": 62,
   "id": "7c97434c",
   "metadata": {},
   "outputs": [],
   "source": [
    "final_cols = X_train.columns"
   ]
  },
  {
   "cell_type": "code",
   "execution_count": 63,
   "id": "afa918af",
   "metadata": {},
   "outputs": [],
   "source": [
    "# Pipeline for imputation\n",
    "impute_pipe = Pipeline([\n",
    "    ('mean_imputer', MeanMedianImputer(imputation_method = 'mean', variables = ['age', 'fare'])),\n",
    "    ('most_freq_imputer', CategoricalImputer(imputation_method = 'frequent', variables = ['embarked', 'ticket_num']))\n",
    "])"
   ]
  },
  {
   "cell_type": "code",
   "execution_count": 64,
   "id": "4174a180",
   "metadata": {},
   "outputs": [],
   "source": [
    "# Reindex values to have same index\n",
    "X_train = cabin_imputer(X_train).reindex(X_train.index)\n",
    "X_test = cabin_imputer(X_test).reindex(X_test.index)"
   ]
  },
  {
   "cell_type": "code",
   "execution_count": 65,
   "id": "81161fd6",
   "metadata": {},
   "outputs": [],
   "source": [
    "X_train = impute_pipe.fit_transform(X_train)\n",
    "X_test = impute_pipe.fit_transform(X_test)"
   ]
  },
  {
   "cell_type": "code",
   "execution_count": 66,
   "id": "a072b095",
   "metadata": {},
   "outputs": [
    {
     "data": {
      "text/plain": [
       "pclass               0.0\n",
       "sex                  0.0\n",
       "age                  0.0\n",
       "sibsp                0.0\n",
       "parch                0.0\n",
       "fare                 0.0\n",
       "cabin                0.0\n",
       "embarked             0.0\n",
       "ticket_num           0.0\n",
       "FamilyMemberCount    0.0\n",
       "IsAlone              0.0\n",
       "dtype: float64"
      ]
     },
     "execution_count": 66,
     "metadata": {},
     "output_type": "execute_result"
    }
   ],
   "source": [
    "X_train.isnull().mean()"
   ]
  },
  {
   "cell_type": "markdown",
   "id": "f656061e",
   "metadata": {},
   "source": [
    "## Model Training"
   ]
  },
  {
   "cell_type": "code",
   "execution_count": 67,
   "id": "46eb0189",
   "metadata": {
    "scrolled": true
   },
   "outputs": [],
   "source": [
    "# Function with column transformer pipeline for preprocessing\n",
    "def preprocessor_pipe(scaler):\n",
    "    pipe = Pipeline([\n",
    "        ('rare_enc', RareLabelEncoder(tol = 0.05, n_categories=3)),\n",
    "        ('ohe', OrdinalEncoder(encoding_method = 'ordered')),\n",
    "        ('scaler', scaler)\n",
    "    ])\n",
    "    \n",
    "    main_preprocessor = ColumnTransformer([\n",
    "        ('pipe', pipe , final_cols)\n",
    "    ])\n",
    "    return main_preprocessor\n",
    "\n",
    "# Function with main pipeline for training\n",
    "def clf_pipe(clf_model, main_preprocessor):\n",
    "    clf = Pipeline([('preprocessor', main_preprocessor),\n",
    "                    ('clf', clf_model)])\n",
    "    return clf"
   ]
  },
  {
   "cell_type": "code",
   "execution_count": 99,
   "id": "3c9be5a4",
   "metadata": {},
   "outputs": [],
   "source": [
    "# Function to show model evaluation results\n",
    "def score_func(grid_search_model, X_train, y_train, X_test, y_test):\n",
    "    pred = grid_search_model.predict(X_test)\n",
    "    \n",
    "    train_score = grid_search_model.score(X_train, y_train)\n",
    "    \n",
    "    test_score = grid_search_model.score(X_test, y_test)\n",
    "    \n",
    "    print(\"train roc_auc score: {0:.2g}\".format(train_score))\n",
    "    \n",
    "    print(\"test roc_auc score: {0:.2g}\".format(test_score))\n",
    "    \n",
    "    roc_auc_train_list.append(train_score)\n",
    "    \n",
    "    roc_auc_test_list.append(test_score)\n",
    "    \n",
    "    accuracy_score_list.append(round(accuracy_score(y_test, pred), 3))\n",
    "    \n",
    "    precision_score_list.append(round(precision_score(y_test, pred), 3))\n",
    "    \n",
    "    recall_score_list.append(round(recall_score(y_test, pred), 3))\n",
    "    \n",
    "    f1_score_list.append(round(f1_score(y_test, pred), 3))\n",
    "    \n",
    "    cm_list.append(confusion_matrix(y_test, pred))"
   ]
  },
  {
   "cell_type": "code",
   "execution_count": 100,
   "id": "cccc8d5c",
   "metadata": {},
   "outputs": [],
   "source": [
    "# Initialize lists to store model's results\n",
    "model_name_list = []\n",
    "\n",
    "roc_auc_train_list = []\n",
    "\n",
    "roc_auc_test_list = []\n",
    "\n",
    "accuracy_score_list = []\n",
    "\n",
    "precision_score_list = []\n",
    "\n",
    "recall_score_list = []\n",
    "\n",
    "f1_score_list = []\n",
    "\n",
    "cm_list = []"
   ]
  },
  {
   "cell_type": "markdown",
   "id": "0ba9fad9",
   "metadata": {},
   "source": [
    "### KNN"
   ]
  },
  {
   "cell_type": "code",
   "execution_count": 101,
   "id": "d350914c",
   "metadata": {},
   "outputs": [],
   "source": [
    "# Create model wth pipeline for training\n",
    "model_knn = clf_pipe(KNeighborsClassifier(weights = 'uniform',\n",
    "                                    algorithm = 'auto',\n",
    "                                    n_neighbors = 5,\n",
    "                                    leaf_size = 30), \n",
    "               preprocessor_pipe(StandardScaler()))"
   ]
  },
  {
   "cell_type": "code",
   "execution_count": 102,
   "id": "03863752",
   "metadata": {
    "scrolled": true
   },
   "outputs": [],
   "source": [
    "# Initialize dictionary with parameters for Grid Search\n",
    "param_grid = {\n",
    "    'preprocessor__pipe__rare_enc__tol': [0.03, 0.04, 0.05],\n",
    "    'preprocessor__pipe__rare_enc__n_categories': [2, 3, 4, 5],\n",
    "    'clf__n_neighbors': [3, 5, 7, 9],\n",
    "    'clf__algorithm': ['ball_tree', 'kd_tree', 'chebyshev', 'brute', 'auto'],\n",
    "    'clf__leaf_size': [35, 50, 65]\n",
    "}\n",
    "\n",
    "grid_search_KNN = GridSearchCV(model_knn, param_grid, cv = 5, n_jobs = -1, scoring = 'roc_auc')"
   ]
  },
  {
   "cell_type": "code",
   "execution_count": 103,
   "id": "fc1691f3",
   "metadata": {},
   "outputs": [
    {
     "name": "stdout",
     "output_type": "stream",
     "text": [
      "14.3 s ± 0 ns per loop (mean ± std. dev. of 1 run, 1 loop each)\n"
     ]
    }
   ],
   "source": [
    "%%timeit -r 1 -n 1\n",
    "grid_search_KNN.fit(X_train, y_train)"
   ]
  },
  {
   "cell_type": "code",
   "execution_count": 104,
   "id": "57bae4ab",
   "metadata": {},
   "outputs": [
    {
     "name": "stdout",
     "output_type": "stream",
     "text": [
      "train roc_auc score: 0.91\n",
      "test roc_auc score: 0.82\n"
     ]
    }
   ],
   "source": [
    "# Append model name to list\n",
    "model_name_list.append(type(model_knn['clf']).__name__)\n",
    "\n",
    "score_func(grid_search_KNN, X_train, y_train, X_test, y_test)"
   ]
  },
  {
   "cell_type": "code",
   "execution_count": 105,
   "id": "03b1dce8",
   "metadata": {},
   "outputs": [
    {
     "data": {
      "text/plain": [
       "{'clf__algorithm': 'brute',\n",
       " 'clf__leaf_size': 35,\n",
       " 'clf__n_neighbors': 9,\n",
       " 'preprocessor__pipe__rare_enc__n_categories': 2,\n",
       " 'preprocessor__pipe__rare_enc__tol': 0.04}"
      ]
     },
     "execution_count": 105,
     "metadata": {},
     "output_type": "execute_result"
    }
   ],
   "source": [
    "# Show best parameters from Grid Search\n",
    "grid_search_KNN.best_params_"
   ]
  },
  {
   "cell_type": "markdown",
   "id": "de1c1ec3",
   "metadata": {},
   "source": [
    "### Gradient Boosting"
   ]
  },
  {
   "cell_type": "code",
   "execution_count": 106,
   "id": "e4e892a4",
   "metadata": {},
   "outputs": [],
   "source": [
    "model_gbc = clf_pipe(GradientBoostingClassifier(learning_rate = 0.1,\n",
    "                                                criterion = 'friedman_mse',\n",
    "                                                n_estimators = 100),\n",
    "               preprocessor_pipe(StandardScaler()))"
   ]
  },
  {
   "cell_type": "code",
   "execution_count": 107,
   "id": "c51d034b",
   "metadata": {
    "scrolled": true
   },
   "outputs": [],
   "source": [
    "param_grid = {\n",
    "    'preprocessor__pipe__rare_enc__tol': [0.03, 0.04, 0.05],\n",
    "    'preprocessor__pipe__rare_enc__n_categories': [2, 3, 4, 5],\n",
    "    'clf__learning_rate': [0.1, 0.3, 0.5],\n",
    "    'clf__criterion': ['friedman_mse', 'squared_error', 'mse'],\n",
    "    'clf__n_estimators': [100, 150, 200]\n",
    "}\n",
    "\n",
    "grid_search_GBC = GridSearchCV(model_gbc, param_grid, cv = 5, n_jobs = -1, scoring = 'roc_auc')"
   ]
  },
  {
   "cell_type": "code",
   "execution_count": 108,
   "id": "eed51e70",
   "metadata": {},
   "outputs": [
    {
     "name": "stdout",
     "output_type": "stream",
     "text": [
      "22.4 s ± 0 ns per loop (mean ± std. dev. of 1 run, 1 loop each)\n"
     ]
    }
   ],
   "source": [
    "%%timeit -r 1 -n 1\n",
    "grid_search_GBC.fit(X_train, y_train)"
   ]
  },
  {
   "cell_type": "code",
   "execution_count": 109,
   "id": "8354a863",
   "metadata": {},
   "outputs": [
    {
     "name": "stdout",
     "output_type": "stream",
     "text": [
      "train roc_auc score: 0.94\n",
      "test roc_auc score: 0.85\n"
     ]
    }
   ],
   "source": [
    "model_name_list.append(type(model_gbc['clf']).__name__)\n",
    "\n",
    "score_func(grid_search_GBC, X_train, y_train, X_test, y_test)"
   ]
  },
  {
   "cell_type": "code",
   "execution_count": 110,
   "id": "0037e474",
   "metadata": {},
   "outputs": [
    {
     "data": {
      "text/plain": [
       "{'clf__criterion': 'squared_error',\n",
       " 'clf__learning_rate': 0.1,\n",
       " 'clf__n_estimators': 100,\n",
       " 'preprocessor__pipe__rare_enc__n_categories': 3,\n",
       " 'preprocessor__pipe__rare_enc__tol': 0.03}"
      ]
     },
     "execution_count": 110,
     "metadata": {},
     "output_type": "execute_result"
    }
   ],
   "source": [
    "grid_search_GBC.best_params_"
   ]
  },
  {
   "cell_type": "markdown",
   "id": "17380fdc",
   "metadata": {},
   "source": [
    "### Logistic Regression"
   ]
  },
  {
   "cell_type": "code",
   "execution_count": 111,
   "id": "ba5fb1ba",
   "metadata": {},
   "outputs": [],
   "source": [
    "model_lr = clf_pipe(LogisticRegression(solver = 'lbfgs',\n",
    "                                       penalty = 'l2',\n",
    "                                       dual = False,\n",
    "                                       max_iter = 300\n",
    "                                      ),\n",
    "               preprocessor_pipe(RobustScaler()))"
   ]
  },
  {
   "cell_type": "code",
   "execution_count": 112,
   "id": "8f80be53",
   "metadata": {
    "scrolled": true
   },
   "outputs": [],
   "source": [
    "param_grid = {\n",
    "    'preprocessor__pipe__rare_enc__tol': [0.03, 0.04, 0.05],\n",
    "    'preprocessor__pipe__rare_enc__n_categories': [2, 3, 4, 5],\n",
    "    'clf__solver': ['newton-cg', 'lbfgs', 'liblinear', 'sag', 'saga'],\n",
    "    'clf__penalty': ['l1', 'l2', 'none', 'elasticnet'],\n",
    "    'clf__dual': [True, False]\n",
    "}\n",
    "\n",
    "grid_search_lr = GridSearchCV(model_lr, param_grid, cv = 5, n_jobs = -1, scoring = 'roc_auc')"
   ]
  },
  {
   "cell_type": "code",
   "execution_count": 113,
   "id": "faad5f19",
   "metadata": {},
   "outputs": [
    {
     "name": "stdout",
     "output_type": "stream",
     "text": [
      "8.57 s ± 0 ns per loop (mean ± std. dev. of 1 run, 1 loop each)\n"
     ]
    }
   ],
   "source": [
    "%%timeit -r 1 -n 1\n",
    "grid_search_lr.fit(X_train, y_train)"
   ]
  },
  {
   "cell_type": "code",
   "execution_count": 114,
   "id": "9269385d",
   "metadata": {},
   "outputs": [
    {
     "name": "stdout",
     "output_type": "stream",
     "text": [
      "train roc_auc score: 0.85\n",
      "test roc_auc score: 0.85\n"
     ]
    }
   ],
   "source": [
    "model_name_list.append(type(model_lr['clf']).__name__)\n",
    "\n",
    "score_func(grid_search_lr, X_train, y_train, X_test, y_test)"
   ]
  },
  {
   "cell_type": "code",
   "execution_count": 115,
   "id": "55a97e23",
   "metadata": {},
   "outputs": [
    {
     "data": {
      "text/plain": [
       "{'clf__dual': True,\n",
       " 'clf__penalty': 'l2',\n",
       " 'clf__solver': 'liblinear',\n",
       " 'preprocessor__pipe__rare_enc__n_categories': 3,\n",
       " 'preprocessor__pipe__rare_enc__tol': 0.04}"
      ]
     },
     "execution_count": 115,
     "metadata": {},
     "output_type": "execute_result"
    }
   ],
   "source": [
    "grid_search_lr.best_params_"
   ]
  },
  {
   "cell_type": "markdown",
   "id": "5a3d2e1c",
   "metadata": {},
   "source": [
    "### Random Forest"
   ]
  },
  {
   "cell_type": "code",
   "execution_count": 116,
   "id": "2ba6a8c0",
   "metadata": {},
   "outputs": [],
   "source": [
    "model_rf = clf_pipe(RandomForestClassifier(criterion = 'gini',\n",
    "                                           min_samples_split = 2,\n",
    "                                           min_samples_leaf = 1,\n",
    "                                           n_estimators = 100,\n",
    "                                           random_state = 33),\n",
    "               preprocessor_pipe(MinMaxScaler()))"
   ]
  },
  {
   "cell_type": "code",
   "execution_count": 117,
   "id": "78b93c45",
   "metadata": {},
   "outputs": [],
   "source": [
    "param_grid = {\n",
    "    'preprocessor__pipe__rare_enc__tol': [0.03, 0.04, 0.05],\n",
    "    'preprocessor__pipe__rare_enc__n_categories': [2, 3, 4, 5],\n",
    "    'clf__criterion': ['gini', 'entropy', 'log_loss'],\n",
    "    'clf__min_samples_split': [2, 3, 4],\n",
    "    'clf__min_samples_leaf': [1, 2, 3],\n",
    "    'clf__n_estimators': [100, 200, 300]\n",
    "}\n",
    "\n",
    "grid_search_rf = GridSearchCV(model_rf, param_grid, cv = 5, n_jobs = -1, scoring = 'roc_auc')"
   ]
  },
  {
   "cell_type": "code",
   "execution_count": 118,
   "id": "ebf7d6b8",
   "metadata": {},
   "outputs": [
    {
     "name": "stdout",
     "output_type": "stream",
     "text": [
      "1min 33s ± 0 ns per loop (mean ± std. dev. of 1 run, 1 loop each)\n"
     ]
    }
   ],
   "source": [
    "%%timeit -r 1 -n 1\n",
    "grid_search_rf.fit(X_train, y_train)"
   ]
  },
  {
   "cell_type": "code",
   "execution_count": 119,
   "id": "0c681007",
   "metadata": {},
   "outputs": [
    {
     "name": "stdout",
     "output_type": "stream",
     "text": [
      "train roc_auc score: 0.96\n",
      "test roc_auc score: 0.85\n"
     ]
    }
   ],
   "source": [
    "model_name_list.append(type(model_rf['clf']).__name__)\n",
    "\n",
    "score_func(grid_search_rf, X_train, y_train, X_test, y_test)"
   ]
  },
  {
   "cell_type": "code",
   "execution_count": 120,
   "id": "d8ec2a75",
   "metadata": {},
   "outputs": [
    {
     "data": {
      "text/plain": [
       "{'clf__criterion': 'entropy',\n",
       " 'clf__min_samples_leaf': 3,\n",
       " 'clf__min_samples_split': 2,\n",
       " 'clf__n_estimators': 300,\n",
       " 'preprocessor__pipe__rare_enc__n_categories': 2,\n",
       " 'preprocessor__pipe__rare_enc__tol': 0.04}"
      ]
     },
     "execution_count": 120,
     "metadata": {},
     "output_type": "execute_result"
    }
   ],
   "source": [
    "grid_search_rf.best_params_"
   ]
  },
  {
   "cell_type": "markdown",
   "id": "e785f09b",
   "metadata": {},
   "source": [
    "### SVM"
   ]
  },
  {
   "cell_type": "code",
   "execution_count": 83,
   "id": "686e76b6",
   "metadata": {},
   "outputs": [],
   "source": [
    "model_svc = clf_pipe(SVC(kernel = 'rbf',\n",
    "                         C = 1.0,\n",
    "                         degree = 3,\n",
    "                         gamma = 'scale',\n",
    "                         random_state = 33),\n",
    "               preprocessor_pipe(RobustScaler()))"
   ]
  },
  {
   "cell_type": "code",
   "execution_count": 84,
   "id": "650c4de8",
   "metadata": {},
   "outputs": [],
   "source": [
    "param_grid = {\n",
    "    'preprocessor__pipe__rare_enc__tol': [0.03, 0.04, 0.05],\n",
    "    'preprocessor__pipe__rare_enc__n_categories': [2, 3, 4, 5],\n",
    "    'clf__kernel': ['linear', 'poly', 'rbf', 'sigmoid', 'precomputed'],\n",
    "    'clf__C': [0.9, 1.0, 1.1, 1.2],\n",
    "    'clf__degree': [2, 3, 4],\n",
    "    'clf__gamma': ['scale', 'auto']\n",
    "}\n",
    "\n",
    "grid_search_svc = GridSearchCV(model_svc, param_grid, cv = 5, n_jobs = -1, scoring = 'roc_auc')"
   ]
  },
  {
   "cell_type": "code",
   "execution_count": 85,
   "id": "5f462ea3",
   "metadata": {},
   "outputs": [
    {
     "name": "stdout",
     "output_type": "stream",
     "text": [
      "35 s ± 0 ns per loop (mean ± std. dev. of 1 run, 1 loop each)\n"
     ]
    }
   ],
   "source": [
    "%%timeit -r 1 -n 1\n",
    "grid_search_svc.fit(X_train, y_train)"
   ]
  },
  {
   "cell_type": "code",
   "execution_count": 86,
   "id": "3234f81f",
   "metadata": {},
   "outputs": [
    {
     "name": "stdout",
     "output_type": "stream",
     "text": [
      "train roc_auc score: 0.86\n",
      "test roc_auc score: 0.83\n"
     ]
    }
   ],
   "source": [
    "model_name_list.append(type(model_svc['clf']).__name__)\n",
    "\n",
    "score_func(grid_search_svc, X_train, y_train, X_test, y_test)"
   ]
  },
  {
   "cell_type": "code",
   "execution_count": 87,
   "id": "7733f5b4",
   "metadata": {},
   "outputs": [
    {
     "data": {
      "text/plain": [
       "{'clf__C': 0.9,\n",
       " 'clf__degree': 2,\n",
       " 'clf__gamma': 'scale',\n",
       " 'clf__kernel': 'poly',\n",
       " 'preprocessor__pipe__rare_enc__n_categories': 2,\n",
       " 'preprocessor__pipe__rare_enc__tol': 0.05}"
      ]
     },
     "execution_count": 87,
     "metadata": {},
     "output_type": "execute_result"
    }
   ],
   "source": [
    "grid_search_svc.best_params_"
   ]
  },
  {
   "cell_type": "markdown",
   "id": "18adc683",
   "metadata": {},
   "source": [
    "## Results"
   ]
  },
  {
   "cell_type": "code",
   "execution_count": 96,
   "id": "ea7743ac",
   "metadata": {},
   "outputs": [],
   "source": [
    "# Function to show the top 10 models sorted by the specified metric\n",
    "def results_plot(metric, df):\n",
    "    plt.figure(figsize=(12, 5))\n",
    "    \n",
    "    df = df.loc[(df[metric] != 0)]\n",
    "    \n",
    "    sns.barplot(data = df.sort_values(by = metric, ascending = False).head(10), \n",
    "            x = metric, y = 'Model')\n",
    "    plt.title(metric, fontsize = 12)\n",
    "    plt.xlabel(metric)\n",
    "    plt.yticks(fontsize = 12)\n",
    "    plt.xticks(fontsize = 12)\n",
    "    plt.show()\n",
    "\n",
    "# Function to show a heatmap of the confusion matrix\n",
    "def plot_cm(model_name, cm):\n",
    "    f, ax = plt.subplots(figsize=(5,5))\n",
    "    sns.heatmap(cm, annot = True, linewidths=0.5, linecolor=\"red\", fmt = \".0f\", ax = ax)\n",
    "    plt.title(model)\n",
    "    plt.xlabel(\"y_pred\")\n",
    "    plt.ylabel(\"y_test\")\n",
    "    plt.show()"
   ]
  },
  {
   "cell_type": "code",
   "execution_count": 121,
   "id": "bb33e353",
   "metadata": {},
   "outputs": [],
   "source": [
    "# Create dataframe with model evaluation results\n",
    "\n",
    "model_results_df = pd.DataFrame({\n",
    "    'Model': model_name_list,\n",
    "    'roc_auc_train_score': roc_auc_train_list,\n",
    "    'roc_auc_test_score': roc_auc_test_list, \n",
    "    'accuracy_score': accuracy_score_list, \n",
    "    'precision_score': precision_score_list,\n",
    "    'recall_score': recall_score_list,\n",
    "    'f1_score': f1_score_list\n",
    "})"
   ]
  },
  {
   "cell_type": "code",
   "execution_count": 122,
   "id": "41713480",
   "metadata": {},
   "outputs": [
    {
     "data": {
      "text/html": [
       "<div>\n",
       "<style scoped>\n",
       "    .dataframe tbody tr th:only-of-type {\n",
       "        vertical-align: middle;\n",
       "    }\n",
       "\n",
       "    .dataframe tbody tr th {\n",
       "        vertical-align: top;\n",
       "    }\n",
       "\n",
       "    .dataframe thead th {\n",
       "        text-align: right;\n",
       "    }\n",
       "</style>\n",
       "<table border=\"1\" class=\"dataframe\">\n",
       "  <thead>\n",
       "    <tr style=\"text-align: right;\">\n",
       "      <th></th>\n",
       "      <th>Model</th>\n",
       "      <th>roc_auc_train_score</th>\n",
       "      <th>roc_auc_test_score</th>\n",
       "      <th>accuracy_score</th>\n",
       "      <th>precision_score</th>\n",
       "      <th>recall_score</th>\n",
       "      <th>f1_score</th>\n",
       "    </tr>\n",
       "  </thead>\n",
       "  <tbody>\n",
       "    <tr>\n",
       "      <th>0</th>\n",
       "      <td>KNeighborsClassifier</td>\n",
       "      <td>0.905197</td>\n",
       "      <td>0.822576</td>\n",
       "      <td>0.777</td>\n",
       "      <td>0.733</td>\n",
       "      <td>0.617</td>\n",
       "      <td>0.670</td>\n",
       "    </tr>\n",
       "    <tr>\n",
       "      <th>1</th>\n",
       "      <td>GradientBoostingClassifier</td>\n",
       "      <td>0.940601</td>\n",
       "      <td>0.852644</td>\n",
       "      <td>0.826</td>\n",
       "      <td>0.825</td>\n",
       "      <td>0.667</td>\n",
       "      <td>0.737</td>\n",
       "    </tr>\n",
       "    <tr>\n",
       "      <th>2</th>\n",
       "      <td>LogisticRegression</td>\n",
       "      <td>0.850171</td>\n",
       "      <td>0.847376</td>\n",
       "      <td>0.799</td>\n",
       "      <td>0.745</td>\n",
       "      <td>0.683</td>\n",
       "      <td>0.713</td>\n",
       "    </tr>\n",
       "    <tr>\n",
       "      <th>3</th>\n",
       "      <td>RandomForestClassifier</td>\n",
       "      <td>0.957549</td>\n",
       "      <td>0.847216</td>\n",
       "      <td>0.817</td>\n",
       "      <td>0.819</td>\n",
       "      <td>0.642</td>\n",
       "      <td>0.720</td>\n",
       "    </tr>\n",
       "  </tbody>\n",
       "</table>\n",
       "</div>"
      ],
      "text/plain": [
       "                        Model  roc_auc_train_score  roc_auc_test_score  \\\n",
       "0        KNeighborsClassifier             0.905197            0.822576   \n",
       "1  GradientBoostingClassifier             0.940601            0.852644   \n",
       "2          LogisticRegression             0.850171            0.847376   \n",
       "3      RandomForestClassifier             0.957549            0.847216   \n",
       "\n",
       "   accuracy_score  precision_score  recall_score  f1_score  \n",
       "0           0.777            0.733         0.617     0.670  \n",
       "1           0.826            0.825         0.667     0.737  \n",
       "2           0.799            0.745         0.683     0.713  \n",
       "3           0.817            0.819         0.642     0.720  "
      ]
     },
     "execution_count": 122,
     "metadata": {},
     "output_type": "execute_result"
    }
   ],
   "source": [
    "model_results_df"
   ]
  },
  {
   "cell_type": "code",
   "execution_count": 123,
   "id": "82aed5d4",
   "metadata": {},
   "outputs": [
    {
     "data": {
      "image/png": "[encoded data removed]",
      "text/plain": [
       "<Figure size 864x360 with 1 Axes>"
      ]
     },
     "metadata": {
      "needs_background": "light"
     },
     "output_type": "display_data"
    }
   ],
   "source": [
    "results_plot('roc_auc_test_score', model_results_df)"
   ]
  },
  {
   "cell_type": "code",
   "execution_count": 124,
   "id": "c20a0da2",
   "metadata": {},
   "outputs": [
    {
     "data": {
      "image/png": "[encoded data removed]",
      "text/plain": [
       "<Figure size 864x360 with 1 Axes>"
      ]
     },
     "metadata": {
      "needs_background": "light"
     },
     "output_type": "display_data"
    }
   ],
   "source": [
    "results_plot('accuracy_score', model_results_df)"
   ]
  },
  {
   "cell_type": "code",
   "execution_count": 139,
   "id": "902be3d0",
   "metadata": {},
   "outputs": [
    {
     "name": "stdout",
     "output_type": "stream",
     "text": [
      "Logistic Regression train score: 0.85\n",
      "Logistic Regression test score: 0.847\n"
     ]
    }
   ],
   "source": [
    "print(\"Logistic Regression train score: {}\".format(round(roc_auc_train_list[2], 3)))\n",
    "\n",
    "print(\"Logistic Regression test score: {}\".format(round(roc_auc_test_list[2], 3)))"
   ]
  },
  {
   "cell_type": "code",
   "execution_count": 126,
   "id": "faf26ae5",
   "metadata": {},
   "outputs": [
    {
     "data": {
      "image/png": "[encoded data removed]",
      "text/plain": [
       "<Figure size 360x360 with 2 Axes>"
      ]
     },
     "metadata": {
      "needs_background": "light"
     },
     "output_type": "display_data"
    },
    {
     "data": {
      "image/png": "[encoded data removed]",
      "text/plain": [
       "<Figure size 360x360 with 2 Axes>"
      ]
     },
     "metadata": {
      "needs_background": "light"
     },
     "output_type": "display_data"
    },
    {
     "data": {
      "image/png": "[encoded data removed]",
      "text/plain": [
       "<Figure size 360x360 with 2 Axes>"
      ]
     },
     "metadata": {
      "needs_background": "light"
     },
     "output_type": "display_data"
    },
    {
     "data": {
      "image/png": "[encoded data removed]",
      "text/plain": [
       "<Figure size 360x360 with 2 Axes>"
      ]
     },
     "metadata": {
      "needs_background": "light"
     },
     "output_type": "display_data"
    }
   ],
   "source": [
    "for model, cm in zip(model_name_list, cm_list):\n",
    "    plot_cm(model, cm)"
   ]
  },
  {
   "cell_type": "code",
   "execution_count": 161,
   "id": "2700044b",
   "metadata": {},
   "outputs": [
    {
     "name": "stdout",
     "output_type": "stream",
     "text": [
      "{'clf__dual': True, 'clf__penalty': 'l2', 'clf__solver': 'liblinear', 'preprocessor__pipe__rare_enc__n_categories': 3, 'preprocessor__pipe__rare_enc__tol': 0.04}\n"
     ]
    }
   ],
   "source": [
    "# Show  the best parameters for Logistic Regression model\n",
    "\n",
    "print(grid_search_lr.best_params_)"
   ]
  },
  {
   "cell_type": "code",
   "execution_count": 158,
   "id": "dbe82111",
   "metadata": {},
   "outputs": [],
   "source": [
    "# Create Dataframe with important features obtained from coefficients\n",
    "importances_df = pd.DataFrame({\n",
    "    'Feature': X_train.columns,\n",
    "    'Importance': grid_search_lr.best_estimator_.named_steps['clf'].coef_[0]\n",
    "})\n",
    "\n",
    "# Sort values by \"Importance\" feature\n",
    "importances_df = importances_df.sort_values(by = 'Importance', ascending = False)"
   ]
  },
  {
   "cell_type": "code",
   "execution_count": 163,
   "id": "9f43b730",
   "metadata": {
    "scrolled": false
   },
   "outputs": [
    {
     "data": {
      "image/png": "[encoded data removed]",
      "text/plain": [
       "<Figure size 432x288 with 1 Axes>"
      ]
     },
     "metadata": {
      "needs_background": "light"
     },
     "output_type": "display_data"
    }
   ],
   "source": [
    "# The most important features\n",
    "\n",
    "plt.bar(x = importances_df['Feature'], height = importances_df['Importance'])\n",
    "plt.title('Feature Importances')\n",
    "plt.xticks(rotation = 'vertical')\n",
    "plt.show()"
   ]
  },
  {
   "cell_type": "markdown",
   "id": "69823120",
   "metadata": {},
   "source": [
    "As you can see Gradient Boosting Classifier shows a little bit better performance than other algorithms, but it has a huge overfit problem.\n",
    "\n",
    "So we decided to take Logistic Regression, because this algorithm shows good performance without overfit problem.\n",
    "\n",
    "Also, we obtain feature importances from coefficients and found that 'sex' and 'pclass' had the greatest impact on prediction ."
   ]
  },
  {
   "cell_type": "code",
   "execution_count": null,
   "id": "18accb66",
   "metadata": {},
   "outputs": [],
   "source": []
  }
 ],
 "metadata": {
  "kernelspec": {
   "display_name": "Python 3 (ipykernel)",
   "language": "python",
   "name": "python3"
  },
  "language_info": {
   "codemirror_mode": {
    "name": "ipython",
    "version": 3
   },
   "file_extension": ".py",
   "mimetype": "text/x-python",
   "name": "python",
   "nbconvert_exporter": "python",
   "pygments_lexer": "ipython3",
   "version": "3.8.13"
  }
 },
 "nbformat": 4,
 "nbformat_minor": 5
}
